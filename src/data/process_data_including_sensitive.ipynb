{
 "cells": [
  {
   "attachments": {},
   "cell_type": "markdown",
   "metadata": {},
   "source": [
    "# Catalan Juvenile Justice - Data Processing "
   ]
  },
  {
   "cell_type": "code",
   "execution_count": 163,
   "metadata": {},
   "outputs": [],
   "source": [
    "import torch\n",
    "import pandas as pd\n",
    "import numpy as np\n",
    "from collections import Counter"
   ]
  },
  {
   "attachments": {},
   "cell_type": "markdown",
   "metadata": {},
   "source": [
    "### Load dataset\n",
    "\n",
    "First, the data is loaded..."
   ]
  },
  {
   "cell_type": "code",
   "execution_count": 164,
   "metadata": {},
   "outputs": [
    {
     "data": {
      "text/html": [
       "<div>\n",
       "<style scoped>\n",
       "    .dataframe tbody tr th:only-of-type {\n",
       "        vertical-align: middle;\n",
       "    }\n",
       "\n",
       "    .dataframe tbody tr th {\n",
       "        vertical-align: top;\n",
       "    }\n",
       "\n",
       "    .dataframe thead th {\n",
       "        text-align: right;\n",
       "    }\n",
       "</style>\n",
       "<table border=\"1\" class=\"dataframe\">\n",
       "  <thead>\n",
       "    <tr style=\"text-align: right;\">\n",
       "      <th></th>\n",
       "      <th>id</th>\n",
       "      <th>V1_sex</th>\n",
       "      <th>V4_area_origin</th>\n",
       "      <th>V6_province</th>\n",
       "      <th>V8_age</th>\n",
       "      <th>V9_age_at_program_end</th>\n",
       "      <th>V11_criminal_record</th>\n",
       "      <th>V12_n_criminal_record</th>\n",
       "      <th>V13_n_crime_cat</th>\n",
       "      <th>V15_main_crime_cat</th>\n",
       "      <th>...</th>\n",
       "      <th>V28_days_from_crime_to_program</th>\n",
       "      <th>V29_program_duration</th>\n",
       "      <th>V115_RECID2015_recid</th>\n",
       "      <th>V10_date_of_birth_year</th>\n",
       "      <th>V10_date_of_birth_month</th>\n",
       "      <th>V22_main_crime_date_year</th>\n",
       "      <th>V22_main_crime_date_month</th>\n",
       "      <th>V30_program_start_year</th>\n",
       "      <th>V30_program_start_month</th>\n",
       "      <th>V31_program_end_month</th>\n",
       "    </tr>\n",
       "  </thead>\n",
       "  <tbody>\n",
       "    <tr>\n",
       "      <th>0</th>\n",
       "      <td>691</td>\n",
       "      <td>male</td>\n",
       "      <td>Spain</td>\n",
       "      <td>Lleida</td>\n",
       "      <td>15</td>\n",
       "      <td>17</td>\n",
       "      <td>1</td>\n",
       "      <td>1-2</td>\n",
       "      <td>3+</td>\n",
       "      <td>Against People</td>\n",
       "      <td>...</td>\n",
       "      <td>587.0</td>\n",
       "      <td>132</td>\n",
       "      <td>1</td>\n",
       "      <td>1992</td>\n",
       "      <td>11</td>\n",
       "      <td>2008</td>\n",
       "      <td>8</td>\n",
       "      <td>2010</td>\n",
       "      <td>4</td>\n",
       "      <td>8</td>\n",
       "    </tr>\n",
       "    <tr>\n",
       "      <th>1</th>\n",
       "      <td>956</td>\n",
       "      <td>female</td>\n",
       "      <td>Spain</td>\n",
       "      <td>Barcelona</td>\n",
       "      <td>14</td>\n",
       "      <td>15</td>\n",
       "      <td>1</td>\n",
       "      <td>1-2</td>\n",
       "      <td>2</td>\n",
       "      <td>Against People</td>\n",
       "      <td>...</td>\n",
       "      <td>107.0</td>\n",
       "      <td>258</td>\n",
       "      <td>1</td>\n",
       "      <td>1995</td>\n",
       "      <td>7</td>\n",
       "      <td>2009</td>\n",
       "      <td>8</td>\n",
       "      <td>2009</td>\n",
       "      <td>12</td>\n",
       "      <td>8</td>\n",
       "    </tr>\n",
       "    <tr>\n",
       "      <th>2</th>\n",
       "      <td>2560</td>\n",
       "      <td>male</td>\n",
       "      <td>Maghreb</td>\n",
       "      <td>Barcelona</td>\n",
       "      <td>15</td>\n",
       "      <td>16</td>\n",
       "      <td>1</td>\n",
       "      <td>3-5</td>\n",
       "      <td>3+</td>\n",
       "      <td>Against People</td>\n",
       "      <td>...</td>\n",
       "      <td>135.0</td>\n",
       "      <td>85</td>\n",
       "      <td>1</td>\n",
       "      <td>1994</td>\n",
       "      <td>1</td>\n",
       "      <td>2009</td>\n",
       "      <td>11</td>\n",
       "      <td>2010</td>\n",
       "      <td>3</td>\n",
       "      <td>6</td>\n",
       "    </tr>\n",
       "    <tr>\n",
       "      <th>3</th>\n",
       "      <td>2018</td>\n",
       "      <td>male</td>\n",
       "      <td>Maghreb</td>\n",
       "      <td>Girona</td>\n",
       "      <td>14</td>\n",
       "      <td>15</td>\n",
       "      <td>1</td>\n",
       "      <td>5+</td>\n",
       "      <td>2</td>\n",
       "      <td>Against People</td>\n",
       "      <td>...</td>\n",
       "      <td>176.0</td>\n",
       "      <td>271</td>\n",
       "      <td>1</td>\n",
       "      <td>1994</td>\n",
       "      <td>4</td>\n",
       "      <td>2009</td>\n",
       "      <td>1</td>\n",
       "      <td>2009</td>\n",
       "      <td>6</td>\n",
       "      <td>3</td>\n",
       "    </tr>\n",
       "    <tr>\n",
       "      <th>4</th>\n",
       "      <td>1650</td>\n",
       "      <td>male</td>\n",
       "      <td>Spain</td>\n",
       "      <td>Tarragona</td>\n",
       "      <td>17</td>\n",
       "      <td>20</td>\n",
       "      <td>1</td>\n",
       "      <td>5+</td>\n",
       "      <td>3+</td>\n",
       "      <td>Against People</td>\n",
       "      <td>...</td>\n",
       "      <td>261.0</td>\n",
       "      <td>533</td>\n",
       "      <td>1</td>\n",
       "      <td>1990</td>\n",
       "      <td>9</td>\n",
       "      <td>2008</td>\n",
       "      <td>9</td>\n",
       "      <td>2009</td>\n",
       "      <td>5</td>\n",
       "      <td>11</td>\n",
       "    </tr>\n",
       "  </tbody>\n",
       "</table>\n",
       "<p>5 rows × 29 columns</p>\n",
       "</div>"
      ],
      "text/plain": [
       "     id  V1_sex V4_area_origin V6_province  V8_age  V9_age_at_program_end  \\\n",
       "0   691    male          Spain      Lleida      15                     17   \n",
       "1   956  female          Spain   Barcelona      14                     15   \n",
       "2  2560    male        Maghreb   Barcelona      15                     16   \n",
       "3  2018    male        Maghreb      Girona      14                     15   \n",
       "4  1650    male          Spain   Tarragona      17                     20   \n",
       "\n",
       "   V11_criminal_record V12_n_criminal_record V13_n_crime_cat  \\\n",
       "0                    1                   1-2              3+   \n",
       "1                    1                   1-2               2   \n",
       "2                    1                   3-5              3+   \n",
       "3                    1                    5+               2   \n",
       "4                    1                    5+              3+   \n",
       "\n",
       "  V15_main_crime_cat  ...  V28_days_from_crime_to_program  \\\n",
       "0     Against People  ...                           587.0   \n",
       "1     Against People  ...                           107.0   \n",
       "2     Against People  ...                           135.0   \n",
       "3     Against People  ...                           176.0   \n",
       "4     Against People  ...                           261.0   \n",
       "\n",
       "   V29_program_duration V115_RECID2015_recid  V10_date_of_birth_year  \\\n",
       "0                   132                    1                    1992   \n",
       "1                   258                    1                    1995   \n",
       "2                    85                    1                    1994   \n",
       "3                   271                    1                    1994   \n",
       "4                   533                    1                    1990   \n",
       "\n",
       "   V10_date_of_birth_month V22_main_crime_date_year V22_main_crime_date_month  \\\n",
       "0                       11                     2008                         8   \n",
       "1                        7                     2009                         8   \n",
       "2                        1                     2009                        11   \n",
       "3                        4                     2009                         1   \n",
       "4                        9                     2008                         9   \n",
       "\n",
       "  V30_program_start_year V30_program_start_month  V31_program_end_month  \n",
       "0                   2010                       4                      8  \n",
       "1                   2009                      12                      8  \n",
       "2                   2010                       3                      6  \n",
       "3                   2009                       6                      3  \n",
       "4                   2009                       5                     11  \n",
       "\n",
       "[5 rows x 29 columns]"
      ]
     },
     "execution_count": 164,
     "metadata": {},
     "output_type": "execute_result"
    }
   ],
   "source": [
    "DATA_PATH = \"../../data\" \n",
    "df = pd.read_csv(f\"{DATA_PATH}/raw/catalan-juvenile-recidivism-subset.csv\", header=0)\n",
    "\n",
    "# Display dataframe head\n",
    "df.head()"
   ]
  },
  {
   "attachments": {},
   "cell_type": "markdown",
   "metadata": {},
   "source": [
    "Next, an overview of the columns contained is provided."
   ]
  },
  {
   "cell_type": "code",
   "execution_count": 165,
   "metadata": {},
   "outputs": [
    {
     "data": {
      "text/plain": [
       "Index(['id', 'V1_sex', 'V4_area_origin', 'V6_province', 'V8_age',\n",
       "       'V9_age_at_program_end', 'V11_criminal_record', 'V12_n_criminal_record',\n",
       "       'V13_n_crime_cat', 'V15_main_crime_cat', 'V16_violent_crime',\n",
       "       'V17_crime_classification', 'V19_committed_crime',\n",
       "       'V20_n_juvenile_records', 'V21_n_crime', 'V23_territory_of_execution',\n",
       "       'V24_finished_program', 'V26_finished_measure_grouped',\n",
       "       'V27_program_duration_cat', 'V28_days_from_crime_to_program',\n",
       "       'V29_program_duration', 'V115_RECID2015_recid',\n",
       "       'V10_date_of_birth_year', 'V10_date_of_birth_month',\n",
       "       'V22_main_crime_date_year', 'V22_main_crime_date_month',\n",
       "       'V30_program_start_year', 'V30_program_start_month',\n",
       "       'V31_program_end_month'],\n",
       "      dtype='object')"
      ]
     },
     "execution_count": 165,
     "metadata": {},
     "output_type": "execute_result"
    }
   ],
   "source": [
    "# Column overview\n",
    "Counter(df.columns)\n",
    "df.columns\n"
   ]
  },
  {
   "attachments": {},
   "cell_type": "markdown",
   "metadata": {},
   "source": [
    "The attributes are of different types (nominal, ordinal, numerical) from which some of them are sensitive attributes (in terms of being fairness-related attributes). An overview of a potential mapping is provided below:"
   ]
  },
  {
   "cell_type": "code",
   "execution_count": 145,
   "metadata": {},
   "outputs": [],
   "source": [
    "numerical_cols = [\n",
    "    'V20_n_juvenile_records',\n",
    "    'V28_days_from_crime_to_program',\n",
    "    'V29_program_duration',\n",
    "    'V22_main_crime_date_year',\n",
    "    'V22_main_crime_date_month',\n",
    "    'V30_program_start_year',\n",
    "    'V30_program_start_month',\n",
    "    'V31_program_end_month',\n",
    "    'V10_date_of_birth_month',\n",
    "]\n",
    "\n",
    "ordinal_cols = [\n",
    "    'V12_n_criminal_record',\n",
    "    'V13_n_crime_cat',\n",
    "    'V21_n_crime',\n",
    "    'V27_program_duration_cat',   \n",
    "]\n",
    "\n",
    "cat_cols = [\n",
    "    'V1_sex',\n",
    "    'V4_area_origin',\n",
    "    'V6_province',\n",
    "    'V11_criminal_record',\n",
    "    'V15_main_crime_cat',\n",
    "    'V16_violent_crime',\n",
    "    'V17_crime_classification',\n",
    "    'V19_committed_crime',\n",
    "    'V23_territory_of_execution',\n",
    "    'V24_finished_program',\n",
    "    'V26_finished_measure_grouped',\n",
    "    'V8_age',\n",
    "    'V10_date_of_birth_year_grouped',\n",
    "    'V9_age_at_program_end_grouped',\n",
    "]\n",
    "\n",
    "target = 'V115_RECID2015_recid'\n",
    "\n",
    "# Check that shapes add up (disregarding the id columns)\n",
    "assert df.columns.__len__() - 1 == len(numerical_cols) + len(ordinal_cols) + len(cat_cols) + 1"
   ]
  },
  {
   "attachments": {},
   "cell_type": "markdown",
   "metadata": {},
   "source": [
    "For the ordinal attributes we need to map the string content to numerical ordered data. An overview of the mappings are provided below."
   ]
  },
  {
   "cell_type": "code",
   "execution_count": 146,
   "metadata": {},
   "outputs": [],
   "source": [
    "df['V10_date_of_birth_year_grouped'] = pd.cut(df['V10_date_of_birth_year'], bins=[1982, 1990, 1993, 1996])\n",
    "df['V9_age_at_program_end_grouped'] = pd.cut(df['V9_age_at_program_end'], bins=[14, 16, 18, 27])\n"
   ]
  },
  {
   "cell_type": "code",
   "execution_count": 147,
   "metadata": {},
   "outputs": [],
   "source": [
    "# Ordinal mappings\n",
    "mappings = {\n",
    "    'V12_n_criminal_record': {'0': 0, '1-2': 1, '3-5': 2, '5+': 3},\n",
    "    'V13_n_crime_cat': {'1': 1, '2': 2, '3+': 3},\n",
    "    'V27_program_duration_cat': {'<6 months': 0, '6 months < 1 year': 1, '>1 year': 2},\n",
    "    'V10_date_of_birth_year_grouped':{ '(1990, 1993]': 0, '(1993, 1996]': 1, '(1982, 1990]': 2},\n",
    "    'V9_age_at_program_end_grouped':{ '(14, 16]': 0, '(16, 18]': 1, '(18, 27]': 2}\n",
    "}"
   ]
  },
  {
   "attachments": {},
   "cell_type": "markdown",
   "metadata": {},
   "source": [
    "Now, we have all information for modifying the dataframe to only contain numerical input, which will be necessary when training a Neural Network. The categorical data is one-hot-encoded along wit the binary target attribute, whereas the ordinal attributes are numericalized using the previously defined mappings: "
   ]
  },
  {
   "cell_type": "code",
   "execution_count": 148,
   "metadata": {},
   "outputs": [],
   "source": [
    "# Replace ordinal values with the specified mappings\n",
    "for col in ordinal_cols:\n",
    "    if col in mappings.keys():\n",
    "        reverse_mapping = {v: k for k, v in mappings[col].items()}\n",
    "        df[col] = df[col].astype('category').replace(mappings[col])\n",
    "        df[col] = df[col].cat.rename_categories(reverse_mapping)\n",
    "        df[col] = df[col].cat.codes\n",
    "\n",
    "# Categorical attributes\n",
    "df = pd.get_dummies(\n",
    "    df,\n",
    "    columns=cat_cols\n",
    ")\n",
    "\n",
    "df = df.drop(columns='V10_date_of_birth_year')\n",
    "df = df.drop(columns='V9_age_at_program_end')\n",
    "\n",
    "df[target] = df[target].astype('category').cat.rename_categories({0: 'No', 1: 'Yes'})"
   ]
  },
  {
   "attachments": {},
   "cell_type": "markdown",
   "metadata": {},
   "source": [
    "For a better workflow in the dataloader, the dataset is split into `data`, `labels` and `sensitive_data`. "
   ]
  },
  {
   "cell_type": "code",
   "execution_count": 149,
   "metadata": {},
   "outputs": [],
   "source": [
    "labels          = df[target].cat.codes # pd.get_dummies(pd.DataFrame(df[target]))\n",
    "data            = df.drop(columns=[target])"
   ]
  },
  {
   "cell_type": "code",
   "execution_count": 150,
   "metadata": {},
   "outputs": [
    {
     "data": {
      "text/html": [
       "<div>\n",
       "<style scoped>\n",
       "    .dataframe tbody tr th:only-of-type {\n",
       "        vertical-align: middle;\n",
       "    }\n",
       "\n",
       "    .dataframe tbody tr th {\n",
       "        vertical-align: top;\n",
       "    }\n",
       "\n",
       "    .dataframe thead th {\n",
       "        text-align: right;\n",
       "    }\n",
       "</style>\n",
       "<table border=\"1\" class=\"dataframe\">\n",
       "  <thead>\n",
       "    <tr style=\"text-align: right;\">\n",
       "      <th></th>\n",
       "      <th>id</th>\n",
       "      <th>V12_n_criminal_record</th>\n",
       "      <th>V13_n_crime_cat</th>\n",
       "      <th>V20_n_juvenile_records</th>\n",
       "      <th>V21_n_crime</th>\n",
       "      <th>V27_program_duration_cat</th>\n",
       "      <th>V28_days_from_crime_to_program</th>\n",
       "      <th>V29_program_duration</th>\n",
       "      <th>V115_RECID2015_recid</th>\n",
       "      <th>V10_date_of_birth_month</th>\n",
       "      <th>...</th>\n",
       "      <th>V8_age_14</th>\n",
       "      <th>V8_age_15</th>\n",
       "      <th>V8_age_16</th>\n",
       "      <th>V8_age_17</th>\n",
       "      <th>V10_date_of_birth_year_grouped_(1982, 1990]</th>\n",
       "      <th>V10_date_of_birth_year_grouped_(1990, 1993]</th>\n",
       "      <th>V10_date_of_birth_year_grouped_(1993, 1996]</th>\n",
       "      <th>V9_age_at_program_end_grouped_(14, 16]</th>\n",
       "      <th>V9_age_at_program_end_grouped_(16, 18]</th>\n",
       "      <th>V9_age_at_program_end_grouped_(18, 27]</th>\n",
       "    </tr>\n",
       "  </thead>\n",
       "  <tbody>\n",
       "    <tr>\n",
       "      <th>0</th>\n",
       "      <td>691</td>\n",
       "      <td>1</td>\n",
       "      <td>2</td>\n",
       "      <td>1.0</td>\n",
       "      <td>4</td>\n",
       "      <td>1</td>\n",
       "      <td>587.0</td>\n",
       "      <td>132</td>\n",
       "      <td>Yes</td>\n",
       "      <td>11</td>\n",
       "      <td>...</td>\n",
       "      <td>0</td>\n",
       "      <td>1</td>\n",
       "      <td>0</td>\n",
       "      <td>0</td>\n",
       "      <td>0</td>\n",
       "      <td>1</td>\n",
       "      <td>0</td>\n",
       "      <td>0</td>\n",
       "      <td>1</td>\n",
       "      <td>0</td>\n",
       "    </tr>\n",
       "    <tr>\n",
       "      <th>1</th>\n",
       "      <td>956</td>\n",
       "      <td>1</td>\n",
       "      <td>1</td>\n",
       "      <td>1.0</td>\n",
       "      <td>2</td>\n",
       "      <td>0</td>\n",
       "      <td>107.0</td>\n",
       "      <td>258</td>\n",
       "      <td>Yes</td>\n",
       "      <td>7</td>\n",
       "      <td>...</td>\n",
       "      <td>1</td>\n",
       "      <td>0</td>\n",
       "      <td>0</td>\n",
       "      <td>0</td>\n",
       "      <td>0</td>\n",
       "      <td>0</td>\n",
       "      <td>1</td>\n",
       "      <td>1</td>\n",
       "      <td>0</td>\n",
       "      <td>0</td>\n",
       "    </tr>\n",
       "    <tr>\n",
       "      <th>2</th>\n",
       "      <td>2560</td>\n",
       "      <td>2</td>\n",
       "      <td>2</td>\n",
       "      <td>4.0</td>\n",
       "      <td>3</td>\n",
       "      <td>1</td>\n",
       "      <td>135.0</td>\n",
       "      <td>85</td>\n",
       "      <td>Yes</td>\n",
       "      <td>1</td>\n",
       "      <td>...</td>\n",
       "      <td>0</td>\n",
       "      <td>1</td>\n",
       "      <td>0</td>\n",
       "      <td>0</td>\n",
       "      <td>0</td>\n",
       "      <td>0</td>\n",
       "      <td>1</td>\n",
       "      <td>1</td>\n",
       "      <td>0</td>\n",
       "      <td>0</td>\n",
       "    </tr>\n",
       "    <tr>\n",
       "      <th>3</th>\n",
       "      <td>2018</td>\n",
       "      <td>3</td>\n",
       "      <td>1</td>\n",
       "      <td>7.0</td>\n",
       "      <td>2</td>\n",
       "      <td>0</td>\n",
       "      <td>176.0</td>\n",
       "      <td>271</td>\n",
       "      <td>Yes</td>\n",
       "      <td>4</td>\n",
       "      <td>...</td>\n",
       "      <td>1</td>\n",
       "      <td>0</td>\n",
       "      <td>0</td>\n",
       "      <td>0</td>\n",
       "      <td>0</td>\n",
       "      <td>0</td>\n",
       "      <td>1</td>\n",
       "      <td>1</td>\n",
       "      <td>0</td>\n",
       "      <td>0</td>\n",
       "    </tr>\n",
       "    <tr>\n",
       "      <th>4</th>\n",
       "      <td>1650</td>\n",
       "      <td>3</td>\n",
       "      <td>2</td>\n",
       "      <td>6.0</td>\n",
       "      <td>3</td>\n",
       "      <td>2</td>\n",
       "      <td>261.0</td>\n",
       "      <td>533</td>\n",
       "      <td>Yes</td>\n",
       "      <td>9</td>\n",
       "      <td>...</td>\n",
       "      <td>0</td>\n",
       "      <td>0</td>\n",
       "      <td>0</td>\n",
       "      <td>1</td>\n",
       "      <td>1</td>\n",
       "      <td>0</td>\n",
       "      <td>0</td>\n",
       "      <td>0</td>\n",
       "      <td>0</td>\n",
       "      <td>1</td>\n",
       "    </tr>\n",
       "  </tbody>\n",
       "</table>\n",
       "<p>5 rows × 93 columns</p>\n",
       "</div>"
      ],
      "text/plain": [
       "     id  V12_n_criminal_record  V13_n_crime_cat  V20_n_juvenile_records  \\\n",
       "0   691                      1                2                     1.0   \n",
       "1   956                      1                1                     1.0   \n",
       "2  2560                      2                2                     4.0   \n",
       "3  2018                      3                1                     7.0   \n",
       "4  1650                      3                2                     6.0   \n",
       "\n",
       "   V21_n_crime  V27_program_duration_cat  V28_days_from_crime_to_program  \\\n",
       "0            4                         1                           587.0   \n",
       "1            2                         0                           107.0   \n",
       "2            3                         1                           135.0   \n",
       "3            2                         0                           176.0   \n",
       "4            3                         2                           261.0   \n",
       "\n",
       "   V29_program_duration V115_RECID2015_recid  V10_date_of_birth_month  ...  \\\n",
       "0                   132                  Yes                       11  ...   \n",
       "1                   258                  Yes                        7  ...   \n",
       "2                    85                  Yes                        1  ...   \n",
       "3                   271                  Yes                        4  ...   \n",
       "4                   533                  Yes                        9  ...   \n",
       "\n",
       "   V8_age_14  V8_age_15  V8_age_16  V8_age_17  \\\n",
       "0          0          1          0          0   \n",
       "1          1          0          0          0   \n",
       "2          0          1          0          0   \n",
       "3          1          0          0          0   \n",
       "4          0          0          0          1   \n",
       "\n",
       "   V10_date_of_birth_year_grouped_(1982, 1990]  \\\n",
       "0                                            0   \n",
       "1                                            0   \n",
       "2                                            0   \n",
       "3                                            0   \n",
       "4                                            1   \n",
       "\n",
       "   V10_date_of_birth_year_grouped_(1990, 1993]  \\\n",
       "0                                            1   \n",
       "1                                            0   \n",
       "2                                            0   \n",
       "3                                            0   \n",
       "4                                            0   \n",
       "\n",
       "   V10_date_of_birth_year_grouped_(1993, 1996]  \\\n",
       "0                                            0   \n",
       "1                                            1   \n",
       "2                                            1   \n",
       "3                                            1   \n",
       "4                                            0   \n",
       "\n",
       "   V9_age_at_program_end_grouped_(14, 16]  \\\n",
       "0                                       0   \n",
       "1                                       1   \n",
       "2                                       1   \n",
       "3                                       1   \n",
       "4                                       0   \n",
       "\n",
       "   V9_age_at_program_end_grouped_(16, 18]  \\\n",
       "0                                       1   \n",
       "1                                       0   \n",
       "2                                       0   \n",
       "3                                       0   \n",
       "4                                       0   \n",
       "\n",
       "   V9_age_at_program_end_grouped_(18, 27]  \n",
       "0                                       0  \n",
       "1                                       0  \n",
       "2                                       0  \n",
       "3                                       0  \n",
       "4                                       1  \n",
       "\n",
       "[5 rows x 93 columns]"
      ]
     },
     "execution_count": 150,
     "metadata": {},
     "output_type": "execute_result"
    }
   ],
   "source": [
    "df.head()"
   ]
  },
  {
   "cell_type": "code",
   "execution_count": 151,
   "metadata": {},
   "outputs": [],
   "source": [
    "# Standardize\n",
    "mu, sigma = data[numerical_cols].mean(axis=0), data[numerical_cols].std(axis=0)\n",
    "data[numerical_cols] = (data[numerical_cols] - mu) / sigma"
   ]
  },
  {
   "attachments": {},
   "cell_type": "markdown",
   "metadata": {},
   "source": [
    "Now, the processed datafile is constructed as a dictionary and saved as a `torch`-pickle. "
   ]
  },
  {
   "cell_type": "code",
   "execution_count": 152,
   "metadata": {},
   "outputs": [],
   "source": [
    "# Setup datafile structure\n",
    "datafile = {\n",
    "    'data': {\n",
    "        'columns': np.array(data.columns),\n",
    "        'content': data.to_numpy(),\n",
    "    },\n",
    "    'labels': {\n",
    "        'name': labels.name,\n",
    "        'content': labels.to_numpy().reshape(-1, 1), \n",
    "        'mean': mu,\n",
    "        'variance': sigma**2,\n",
    "    }\n",
    "}\n",
    "\n",
    "# Save datafile\n",
    "torch.save(datafile, f\"{DATA_PATH}/processed/catalan_dataset_including_sensitive.pth\")\n"
   ]
  },
  {
   "cell_type": "code",
   "execution_count": 153,
   "metadata": {},
   "outputs": [
    {
     "name": "stdout",
     "output_type": "stream",
     "text": [
      "Data shape: \t\t(4652, 92)\n",
      "Label shape: \t\t(4652, 1)\n"
     ]
    }
   ],
   "source": [
    "print(f\"Data shape: \\t\\t{datafile['data']['content'].shape}\")\n",
    "print(f\"Label shape: \\t\\t{datafile['labels']['content'].shape}\")"
   ]
  },
  {
   "cell_type": "code",
   "execution_count": 154,
   "metadata": {},
   "outputs": [
    {
     "data": {
      "text/plain": [
       "Index(['id', 'V12_n_criminal_record', 'V13_n_crime_cat',\n",
       "       'V20_n_juvenile_records', 'V21_n_crime', 'V27_program_duration_cat',\n",
       "       'V28_days_from_crime_to_program', 'V29_program_duration',\n",
       "       'V10_date_of_birth_month', 'V22_main_crime_date_year',\n",
       "       'V22_main_crime_date_month', 'V30_program_start_year',\n",
       "       'V30_program_start_month', 'V31_program_end_month', 'V1_sex_female',\n",
       "       'V1_sex_male', 'V4_area_origin_Europe', 'V4_area_origin_Latin America',\n",
       "       'V4_area_origin_Maghreb', 'V4_area_origin_Other',\n",
       "       'V4_area_origin_Spain', 'V6_province_Barcelona', 'V6_province_Girona',\n",
       "       'V6_province_Lleida', 'V6_province_Tarragona', 'V11_criminal_record_0',\n",
       "       'V11_criminal_record_1', 'V15_main_crime_cat_Against People',\n",
       "       'V15_main_crime_cat_Against Property', 'V15_main_crime_cat_Other',\n",
       "       'V16_violent_crime_0', 'V16_violent_crime_1',\n",
       "       'V17_crime_classification_0', 'V17_crime_classification_1',\n",
       "       'V19_committed_crime_Atemptat contra l'autoritat',\n",
       "       'V19_committed_crime_Contra el patrimoni i l'ordre socioeconòmic',\n",
       "       'V19_committed_crime_Contra l'administració de justícia',\n",
       "       'V19_committed_crime_Contra l'administració pública',\n",
       "       'V19_committed_crime_Contra l'honor i la intimitat',\n",
       "       'V19_committed_crime_Contra l'ordre públic i interessos generals',\n",
       "       'V19_committed_crime_Contra la integritat moral',\n",
       "       'V19_committed_crime_Contra la llibertat',\n",
       "       'V19_committed_crime_Contra la llibertat sexual',\n",
       "       'V19_committed_crime_Contra la salud pública',\n",
       "       'V19_committed_crime_Danys', 'V19_committed_crime_Falsedats',\n",
       "       'V19_committed_crime_Furt', 'V19_committed_crime_Homicidi i assassinat',\n",
       "       'V19_committed_crime_Incendi', 'V19_committed_crime_Lesions',\n",
       "       'V19_committed_crime_Robatori amb intimidació',\n",
       "       'V19_committed_crime_Robatori amb violència',\n",
       "       'V19_committed_crime_Robatori amb violència o intimidació',\n",
       "       'V19_committed_crime_Robatori i furt d'ús de vehicle a motor',\n",
       "       'V19_committed_crime_Robatori i robatori amb força en les coses',\n",
       "       'V19_committed_crime_Trànsit', 'V19_committed_crime_Violència familiar',\n",
       "       'V23_territory_of_execution_Barcelona',\n",
       "       'V23_territory_of_execution_Girona',\n",
       "       'V23_territory_of_execution_Lleida',\n",
       "       'V23_territory_of_execution_Tarragona',\n",
       "       'V24_finished_program_Assessorament tècnic menors',\n",
       "       'V24_finished_program_Assistència a centre de dia',\n",
       "       'V24_finished_program_Assistència voluntària en medi obert',\n",
       "       'V24_finished_program_Convivència amb altres persones',\n",
       "       'V24_finished_program_Internament centre terapèutic',\n",
       "       'V24_finished_program_Internament en centre',\n",
       "       'V24_finished_program_Llibertat vigilada',\n",
       "       'V24_finished_program_Mediació i reparació menors',\n",
       "       'V24_finished_program_Permanència de cap de setmana en centre',\n",
       "       'V24_finished_program_Permanència de cap de setmana en domicili',\n",
       "       'V24_finished_program_Prestacions en benefici de la comunitat',\n",
       "       'V24_finished_program_Realització de tasques socioeducatives',\n",
       "       'V24_finished_program_Règim d'internament en llibertat vigilada',\n",
       "       'V24_finished_program_Seguiment internament centre terapèutic',\n",
       "       'V24_finished_program_Tractament terapèutic ambulatori',\n",
       "       'V26_finished_measure_grouped_ATM',\n",
       "       'V26_finished_measure_grouped_Community Service',\n",
       "       'V26_finished_measure_grouped_Internment',\n",
       "       'V26_finished_measure_grouped_MRM',\n",
       "       'V26_finished_measure_grouped_Other',\n",
       "       'V26_finished_measure_grouped_Probation', 'V8_age_14', 'V8_age_15',\n",
       "       'V8_age_16', 'V8_age_17', 'V10_date_of_birth_year_grouped_(1982, 1990]',\n",
       "       'V10_date_of_birth_year_grouped_(1990, 1993]',\n",
       "       'V10_date_of_birth_year_grouped_(1993, 1996]',\n",
       "       'V9_age_at_program_end_grouped_(14, 16]',\n",
       "       'V9_age_at_program_end_grouped_(16, 18]',\n",
       "       'V9_age_at_program_end_grouped_(18, 27]'],\n",
       "      dtype='object')"
      ]
     },
     "execution_count": 154,
     "metadata": {},
     "output_type": "execute_result"
    }
   ],
   "source": [
    "data.columns"
   ]
  },
  {
   "attachments": {},
   "cell_type": "markdown",
   "metadata": {},
   "source": [
    "### Test custom `torch` DataLoader"
   ]
  },
  {
   "cell_type": "code",
   "execution_count": 155,
   "metadata": {},
   "outputs": [
    {
     "name": "stdout",
     "output_type": "stream",
     "text": [
      "92\n",
      "Successfully looped through the DataLoader!\n"
     ]
    }
   ],
   "source": [
    "from src.data.dataloader import CatalanJuvenileJustice\n",
    "\n",
    "dataset = CatalanJuvenileJustice(\n",
    "    data_path=f\"{DATA_PATH}/processed/catalan_dataset_including_sensitive.pth\"\n",
    ")\n",
    "\n",
    "train_loader, val_loader, test_loader = dataset.get_loaders(\n",
    "    batch_size=128, shuffle=True, num_workers=1, \n",
    "    test_size=0.2, val_size=0.2, split_type='random',\n",
    ")\n",
    "\n",
    "\n",
    "try:\n",
    "    # Checking that the dataloader works...\n",
    "    for i, batch in enumerate(train_loader, 0):\n",
    "        data_, label_ = batch['data'], batch['label']\n",
    "\n",
    "    print(\"Successfully looped through the DataLoader!\")\n",
    "\n",
    "except KeyError as e:\n",
    "    raise e"
   ]
  },
  {
   "attachments": {},
   "cell_type": "markdown",
   "metadata": {},
   "source": [
    "### Test seed functionality"
   ]
  },
  {
   "cell_type": "code",
   "execution_count": 156,
   "metadata": {},
   "outputs": [],
   "source": [
    "def set_seed(seed: int):\n",
    "    torch.manual_seed(seed)"
   ]
  },
  {
   "attachments": {},
   "cell_type": "markdown",
   "metadata": {},
   "source": [
    "First in a setting for two dataloaders using the same seed which should give same splits..."
   ]
  },
  {
   "cell_type": "code",
   "execution_count": 157,
   "metadata": {},
   "outputs": [],
   "source": [
    "set_seed(41)\n",
    "train_loader1, val_loader1, test_loader1 = dataset.get_loaders(\n",
    "    batch_size=128, shuffle=True, num_workers=1, \n",
    "    test_size=0.2, val_size=0.2, split_type='random',\n",
    ")\n",
    "\n",
    "set_seed(41)\n",
    "train_loader2, val_loader2, test_loader2 = dataset.get_loaders(\n",
    "    batch_size=128, shuffle=True, num_workers=1, \n",
    "    test_size=0.2, val_size=0.2, split_type='random',\n",
    ")\n",
    "\n",
    "# Should give same splits\n",
    "assert train_loader1.dataset.indices == train_loader2.dataset.indices\n",
    "assert val_loader1.dataset.indices == val_loader2.dataset.indices\n",
    "assert test_loader1.dataset.indices == test_loader2.dataset.indices"
   ]
  },
  {
   "attachments": {},
   "cell_type": "markdown",
   "metadata": {},
   "source": [
    "Next, when using different seeds, we should get different splits..."
   ]
  },
  {
   "cell_type": "code",
   "execution_count": 158,
   "metadata": {},
   "outputs": [],
   "source": [
    "set_seed(0)\n",
    "train_loader1, val_loader1, test_loader1 = dataset.get_loaders(\n",
    "    batch_size=128, shuffle=True, num_workers=1, \n",
    "    test_size=0.2, val_size=0.2, split_type='random',\n",
    ")\n",
    "\n",
    "set_seed(41)\n",
    "train_loader2, val_loader2, test_loader2 = dataset.get_loaders(\n",
    "    batch_size=128, shuffle=True, num_workers=1, \n",
    "    test_size=0.2, val_size=0.2, split_type='random',\n",
    ")\n",
    "\n",
    "# Should give non-identical splits\n",
    "assert train_loader1.dataset.indices != train_loader2.dataset.indices\n",
    "assert val_loader1.dataset.indices != val_loader2.dataset.indices\n",
    "assert test_loader1.dataset.indices != test_loader2.dataset.indices"
   ]
  },
  {
   "attachments": {},
   "cell_type": "markdown",
   "metadata": {},
   "source": [
    "## Train model (temporary)"
   ]
  },
  {
   "cell_type": "code",
   "execution_count": 18,
   "metadata": {},
   "outputs": [
    {
     "ename": "TypeError",
     "evalue": "'NotImplementedType' object is not callable",
     "output_type": "error",
     "traceback": [
      "\u001b[1;31m---------------------------------------------------------------------------\u001b[0m",
      "\u001b[1;31mTypeError\u001b[0m                                 Traceback (most recent call last)",
      "Cell \u001b[1;32mIn[18], line 4\u001b[0m\n\u001b[0;32m      1\u001b[0m \u001b[39mfrom\u001b[39;00m \u001b[39msrc\u001b[39;00m\u001b[39m.\u001b[39;00m\u001b[39mmodels\u001b[39;00m\u001b[39m.\u001b[39;00m\u001b[39mmodel\u001b[39;00m \u001b[39mimport\u001b[39;00m FullyConnected, get_loss_function, get_optimizer\n\u001b[0;32m      3\u001b[0m model \u001b[39m=\u001b[39m FullyConnected(channels_in \u001b[39m=\u001b[39m dataset\u001b[39m.\u001b[39mn_attributes, channels_out \u001b[39m=\u001b[39m \u001b[39m2\u001b[39m)\n\u001b[1;32m----> 4\u001b[0m criterion \u001b[39m=\u001b[39m get_loss_function(\u001b[39mtype\u001b[39;49m\u001b[39m=\u001b[39;49m\u001b[39m'\u001b[39;49m\u001b[39mNLL\u001b[39;49m\u001b[39m'\u001b[39;49m)\n\u001b[0;32m      5\u001b[0m optimizer \u001b[39m=\u001b[39m get_optimizer(model, \u001b[39mtype\u001b[39m\u001b[39m=\u001b[39m\u001b[39m'\u001b[39m\u001b[39mAdam\u001b[39m\u001b[39m'\u001b[39m)\n",
      "File \u001b[1;32mc:\\users\\naja-\\documents\\github\\algorithmicfairness\\src\\models\\model.py:52\u001b[0m, in \u001b[0;36mget_loss_function\u001b[1;34m(type)\u001b[0m\n\u001b[0;32m     50\u001b[0m     \u001b[39mreturn\u001b[39;00m nn\u001b[39m.\u001b[39mBCELoss()\n\u001b[0;32m     51\u001b[0m \u001b[39melse\u001b[39;00m:\n\u001b[1;32m---> 52\u001b[0m     \u001b[39mraise\u001b[39;00m \u001b[39mNotImplemented\u001b[39;49m(\u001b[39m\"\u001b[39;49m\u001b[39mThe specified loss criterion is yet to be implemented...\u001b[39;49m\u001b[39m\"\u001b[39;49m)\n",
      "\u001b[1;31mTypeError\u001b[0m: 'NotImplementedType' object is not callable"
     ]
    }
   ],
   "source": [
    "from src.models.model import FullyConnected, get_loss_function, get_optimizer\n",
    "\n",
    "model = FullyConnected(channels_in = dataset.n_attributes, channels_out = 2)\n",
    "criterion = get_loss_function(type='NLL')\n",
    "optimizer = get_optimizer(model, type='Adam')\n"
   ]
  },
  {
   "cell_type": "code",
   "execution_count": 19,
   "metadata": {},
   "outputs": [
    {
     "name": "stdout",
     "output_type": "stream",
     "text": [
      "FullyConnected(\n",
      "  (net): Sequential(\n",
      "    (0): Linear(in_features=84, out_features=256, bias=True)\n",
      "    (1): ReLU()\n",
      "    (2): Linear(in_features=256, out_features=128, bias=True)\n",
      "    (3): ReLU()\n",
      "    (4): Linear(in_features=128, out_features=2, bias=True)\n",
      "    (5): Softmax(dim=1)\n",
      "  )\n",
      ")\n"
     ]
    }
   ],
   "source": [
    "print(model)"
   ]
  },
  {
   "cell_type": "code",
   "execution_count": null,
   "metadata": {},
   "outputs": [],
   "source": [
    "batch = next(iter(train_loader))\n",
    "inputs, labels = batch['data'], batch['label']\n",
    "\n",
    "probs, logits = model(inputs)\n",
    "loss = criterion(logits, labels.flatten())"
   ]
  },
  {
   "cell_type": "code",
   "execution_count": null,
   "metadata": {},
   "outputs": [
    {
     "data": {
      "text/plain": [
       "[(0, 0.6574), (1, 0.3426)]"
      ]
     },
     "execution_count": 65,
     "metadata": {},
     "output_type": "execute_result"
    }
   ],
   "source": [
    "# Label distribution\n",
    "counts = Counter(df[target].cat.codes)\n",
    "sorted({k: np.round(v / sum(counts.values()), 4) for k, v in counts.items()}.items(), key=lambda x: x[0])"
   ]
  }
 ],
 "metadata": {
  "kernelspec": {
   "display_name": "fairness_ai",
   "language": "python",
   "name": "python3"
  },
  "language_info": {
   "codemirror_mode": {
    "name": "ipython",
    "version": 3
   },
   "file_extension": ".py",
   "mimetype": "text/x-python",
   "name": "python",
   "nbconvert_exporter": "python",
   "pygments_lexer": "ipython3",
   "version": "3.10.9"
  },
  "orig_nbformat": 4,
  "vscode": {
   "interpreter": {
    "hash": "9e0b64b41791ddd928888142a4590a3f599f97eddf3efdc99d7e2ebdd2147f6f"
   }
  }
 },
 "nbformat": 4,
 "nbformat_minor": 2
}
