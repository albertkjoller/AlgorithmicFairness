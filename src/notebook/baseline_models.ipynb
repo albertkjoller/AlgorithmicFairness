{
 "cells": [
  {
   "cell_type": "code",
   "execution_count": 1,
   "id": "f370020d",
   "metadata": {},
   "outputs": [],
   "source": [
    "import numpy as np # linear algebra\n",
    "import pandas as pd # data processing, CSV file I/O (e.g. pd.read_csv)\n",
    "import matplotlib.pyplot as plt # data visualization\n",
    "import seaborn as sns # statistical data visualization"
   ]
  },
  {
   "cell_type": "markdown",
   "id": "f42205ba",
   "metadata": {},
   "source": [
    "## 1. load data"
   ]
  },
  {
   "cell_type": "code",
   "execution_count": 32,
   "id": "d6f62c11",
   "metadata": {},
   "outputs": [],
   "source": [
    "# change this to the path of csv file \n",
    "csv_file = '../catalan_data_course/catalan-juvenile-recidivism-subset.csv'\n",
    "df = pd.read_csv(csv_file, header=0)"
   ]
  },
  {
   "cell_type": "markdown",
   "id": "5119ca19",
   "metadata": {},
   "source": [
    "A overview of the dataset we have"
   ]
  },
  {
   "cell_type": "code",
   "execution_count": 33,
   "id": "13ad9b57",
   "metadata": {},
   "outputs": [
    {
     "data": {
      "text/html": [
       "<div>\n",
       "<style scoped>\n",
       "    .dataframe tbody tr th:only-of-type {\n",
       "        vertical-align: middle;\n",
       "    }\n",
       "\n",
       "    .dataframe tbody tr th {\n",
       "        vertical-align: top;\n",
       "    }\n",
       "\n",
       "    .dataframe thead th {\n",
       "        text-align: right;\n",
       "    }\n",
       "</style>\n",
       "<table border=\"1\" class=\"dataframe\">\n",
       "  <thead>\n",
       "    <tr style=\"text-align: right;\">\n",
       "      <th></th>\n",
       "      <th>id</th>\n",
       "      <th>V1_sex</th>\n",
       "      <th>V4_area_origin</th>\n",
       "      <th>V6_province</th>\n",
       "      <th>V8_age</th>\n",
       "      <th>V9_age_at_program_end</th>\n",
       "      <th>V11_criminal_record</th>\n",
       "      <th>V12_n_criminal_record</th>\n",
       "      <th>V13_n_crime_cat</th>\n",
       "      <th>V15_main_crime_cat</th>\n",
       "      <th>...</th>\n",
       "      <th>V28_days_from_crime_to_program</th>\n",
       "      <th>V29_program_duration</th>\n",
       "      <th>V115_RECID2015_recid</th>\n",
       "      <th>V10_date_of_birth_year</th>\n",
       "      <th>V10_date_of_birth_month</th>\n",
       "      <th>V22_main_crime_date_year</th>\n",
       "      <th>V22_main_crime_date_month</th>\n",
       "      <th>V30_program_start_year</th>\n",
       "      <th>V30_program_start_month</th>\n",
       "      <th>V31_program_end_month</th>\n",
       "    </tr>\n",
       "  </thead>\n",
       "  <tbody>\n",
       "    <tr>\n",
       "      <th>0</th>\n",
       "      <td>691</td>\n",
       "      <td>male</td>\n",
       "      <td>Spain</td>\n",
       "      <td>Lleida</td>\n",
       "      <td>15</td>\n",
       "      <td>17</td>\n",
       "      <td>1</td>\n",
       "      <td>1-2</td>\n",
       "      <td>3+</td>\n",
       "      <td>Against People</td>\n",
       "      <td>...</td>\n",
       "      <td>587.0</td>\n",
       "      <td>132</td>\n",
       "      <td>1</td>\n",
       "      <td>1992</td>\n",
       "      <td>11</td>\n",
       "      <td>2008</td>\n",
       "      <td>8</td>\n",
       "      <td>2010</td>\n",
       "      <td>4</td>\n",
       "      <td>8</td>\n",
       "    </tr>\n",
       "    <tr>\n",
       "      <th>1</th>\n",
       "      <td>956</td>\n",
       "      <td>female</td>\n",
       "      <td>Spain</td>\n",
       "      <td>Barcelona</td>\n",
       "      <td>14</td>\n",
       "      <td>15</td>\n",
       "      <td>1</td>\n",
       "      <td>1-2</td>\n",
       "      <td>2</td>\n",
       "      <td>Against People</td>\n",
       "      <td>...</td>\n",
       "      <td>107.0</td>\n",
       "      <td>258</td>\n",
       "      <td>1</td>\n",
       "      <td>1995</td>\n",
       "      <td>7</td>\n",
       "      <td>2009</td>\n",
       "      <td>8</td>\n",
       "      <td>2009</td>\n",
       "      <td>12</td>\n",
       "      <td>8</td>\n",
       "    </tr>\n",
       "    <tr>\n",
       "      <th>2</th>\n",
       "      <td>2560</td>\n",
       "      <td>male</td>\n",
       "      <td>Maghreb</td>\n",
       "      <td>Barcelona</td>\n",
       "      <td>15</td>\n",
       "      <td>16</td>\n",
       "      <td>1</td>\n",
       "      <td>3-5</td>\n",
       "      <td>3+</td>\n",
       "      <td>Against People</td>\n",
       "      <td>...</td>\n",
       "      <td>135.0</td>\n",
       "      <td>85</td>\n",
       "      <td>1</td>\n",
       "      <td>1994</td>\n",
       "      <td>1</td>\n",
       "      <td>2009</td>\n",
       "      <td>11</td>\n",
       "      <td>2010</td>\n",
       "      <td>3</td>\n",
       "      <td>6</td>\n",
       "    </tr>\n",
       "    <tr>\n",
       "      <th>3</th>\n",
       "      <td>2018</td>\n",
       "      <td>male</td>\n",
       "      <td>Maghreb</td>\n",
       "      <td>Girona</td>\n",
       "      <td>14</td>\n",
       "      <td>15</td>\n",
       "      <td>1</td>\n",
       "      <td>5+</td>\n",
       "      <td>2</td>\n",
       "      <td>Against People</td>\n",
       "      <td>...</td>\n",
       "      <td>176.0</td>\n",
       "      <td>271</td>\n",
       "      <td>1</td>\n",
       "      <td>1994</td>\n",
       "      <td>4</td>\n",
       "      <td>2009</td>\n",
       "      <td>1</td>\n",
       "      <td>2009</td>\n",
       "      <td>6</td>\n",
       "      <td>3</td>\n",
       "    </tr>\n",
       "    <tr>\n",
       "      <th>4</th>\n",
       "      <td>1650</td>\n",
       "      <td>male</td>\n",
       "      <td>Spain</td>\n",
       "      <td>Tarragona</td>\n",
       "      <td>17</td>\n",
       "      <td>20</td>\n",
       "      <td>1</td>\n",
       "      <td>5+</td>\n",
       "      <td>3+</td>\n",
       "      <td>Against People</td>\n",
       "      <td>...</td>\n",
       "      <td>261.0</td>\n",
       "      <td>533</td>\n",
       "      <td>1</td>\n",
       "      <td>1990</td>\n",
       "      <td>9</td>\n",
       "      <td>2008</td>\n",
       "      <td>9</td>\n",
       "      <td>2009</td>\n",
       "      <td>5</td>\n",
       "      <td>11</td>\n",
       "    </tr>\n",
       "  </tbody>\n",
       "</table>\n",
       "<p>5 rows × 29 columns</p>\n",
       "</div>"
      ],
      "text/plain": [
       "     id  V1_sex V4_area_origin V6_province  V8_age  V9_age_at_program_end  \\\n",
       "0   691    male          Spain      Lleida      15                     17   \n",
       "1   956  female          Spain   Barcelona      14                     15   \n",
       "2  2560    male        Maghreb   Barcelona      15                     16   \n",
       "3  2018    male        Maghreb      Girona      14                     15   \n",
       "4  1650    male          Spain   Tarragona      17                     20   \n",
       "\n",
       "   V11_criminal_record V12_n_criminal_record V13_n_crime_cat  \\\n",
       "0                    1                   1-2              3+   \n",
       "1                    1                   1-2               2   \n",
       "2                    1                   3-5              3+   \n",
       "3                    1                    5+               2   \n",
       "4                    1                    5+              3+   \n",
       "\n",
       "  V15_main_crime_cat  ...  V28_days_from_crime_to_program  \\\n",
       "0     Against People  ...                           587.0   \n",
       "1     Against People  ...                           107.0   \n",
       "2     Against People  ...                           135.0   \n",
       "3     Against People  ...                           176.0   \n",
       "4     Against People  ...                           261.0   \n",
       "\n",
       "   V29_program_duration V115_RECID2015_recid  V10_date_of_birth_year  \\\n",
       "0                   132                    1                    1992   \n",
       "1                   258                    1                    1995   \n",
       "2                    85                    1                    1994   \n",
       "3                   271                    1                    1994   \n",
       "4                   533                    1                    1990   \n",
       "\n",
       "   V10_date_of_birth_month V22_main_crime_date_year V22_main_crime_date_month  \\\n",
       "0                       11                     2008                         8   \n",
       "1                        7                     2009                         8   \n",
       "2                        1                     2009                        11   \n",
       "3                        4                     2009                         1   \n",
       "4                        9                     2008                         9   \n",
       "\n",
       "  V30_program_start_year V30_program_start_month  V31_program_end_month  \n",
       "0                   2010                       4                      8  \n",
       "1                   2009                      12                      8  \n",
       "2                   2010                       3                      6  \n",
       "3                   2009                       6                      3  \n",
       "4                   2009                       5                     11  \n",
       "\n",
       "[5 rows x 29 columns]"
      ]
     },
     "execution_count": 33,
     "metadata": {},
     "output_type": "execute_result"
    }
   ],
   "source": [
    "df.head()"
   ]
  },
  {
   "cell_type": "code",
   "execution_count": 34,
   "id": "a2c7fbf4",
   "metadata": {},
   "outputs": [
    {
     "data": {
      "text/plain": [
       "(4652, 29)"
      ]
     },
     "execution_count": 34,
     "metadata": {},
     "output_type": "execute_result"
    }
   ],
   "source": [
    "df.shape"
   ]
  },
  {
   "cell_type": "markdown",
   "id": "4ec2a3fe",
   "metadata": {},
   "source": [
    "The dataset is quite good in terms of miss data."
   ]
  },
  {
   "cell_type": "code",
   "execution_count": 35,
   "id": "3fa972e4",
   "metadata": {},
   "outputs": [
    {
     "data": {
      "text/plain": [
       "id                                0\n",
       "V1_sex                            0\n",
       "V4_area_origin                    0\n",
       "V6_province                       0\n",
       "V8_age                            0\n",
       "V9_age_at_program_end             0\n",
       "V11_criminal_record               0\n",
       "V12_n_criminal_record             0\n",
       "V13_n_crime_cat                   0\n",
       "V15_main_crime_cat                0\n",
       "V16_violent_crime                 0\n",
       "V17_crime_classification          0\n",
       "V19_committed_crime               0\n",
       "V20_n_juvenile_records            0\n",
       "V21_n_crime                       0\n",
       "V23_territory_of_execution        0\n",
       "V24_finished_program              0\n",
       "V26_finished_measure_grouped      0\n",
       "V27_program_duration_cat          0\n",
       "V28_days_from_crime_to_program    0\n",
       "V29_program_duration              0\n",
       "V115_RECID2015_recid              0\n",
       "V10_date_of_birth_year            0\n",
       "V10_date_of_birth_month           0\n",
       "V22_main_crime_date_year          0\n",
       "V22_main_crime_date_month         0\n",
       "V30_program_start_year            0\n",
       "V30_program_start_month           0\n",
       "V31_program_end_month             0\n",
       "dtype: int64"
      ]
     },
     "execution_count": 35,
     "metadata": {},
     "output_type": "execute_result"
    }
   ],
   "source": [
    "df.isnull().sum()"
   ]
  },
  {
   "cell_type": "markdown",
   "id": "60ec1f1a",
   "metadata": {},
   "source": [
    "## 2. convert categorical data into numeric data\n",
    "Notice that, in this dataset, we have many categorical attributes, which could not be dealt by random forest classifier (sklearn) as well as neural networks.\n",
    "\n",
    "We use `pd.get_dummies` to convert those columns into numeric ones.\n",
    "\n",
    "Before that, we drop `id` which is not useful for classification."
   ]
  },
  {
   "cell_type": "code",
   "execution_count": 36,
   "id": "890e2155",
   "metadata": {},
   "outputs": [],
   "source": [
    "# drop id\n",
    "columus_to_drop = ['id']\n",
    "df = df.drop(columus_to_drop,axis=1)"
   ]
  },
  {
   "cell_type": "markdown",
   "id": "1fe039d4",
   "metadata": {},
   "source": [
    "Then we detect all the categorical columns from our dataset."
   ]
  },
  {
   "cell_type": "code",
   "execution_count": 37,
   "id": "f6b4d91e",
   "metadata": {},
   "outputs": [
    {
     "name": "stdout",
     "output_type": "stream",
     "text": [
      "categorial columns: ['V23_territory_of_execution', 'V27_program_duration_cat', 'V26_finished_measure_grouped', 'V6_province', 'V19_committed_crime', 'V4_area_origin', 'V1_sex', 'V24_finished_program', 'V15_main_crime_cat', 'V12_n_criminal_record', 'V13_n_crime_cat']\n",
      "count: 11\n"
     ]
    }
   ],
   "source": [
    "# detect the categorical data\n",
    "num_cols = df._get_numeric_data().columns\n",
    "# print(num_cols)\n",
    "cols = df.columns\n",
    "cat_cols = list(set(cols) - set(num_cols))\n",
    "print('categorial columns: {}\\ncount: {}'.format(cat_cols,len(cat_cols)))"
   ]
  },
  {
   "cell_type": "code",
   "execution_count": 38,
   "id": "f42c5114",
   "metadata": {},
   "outputs": [
    {
     "name": "stdout",
     "output_type": "stream",
     "text": [
      "---V23_territory_of_execution---\n",
      "Barcelona    3258\n",
      "Girona        604\n",
      "Tarragona     430\n",
      "Lleida        360\n",
      "Name: V23_territory_of_execution, dtype: int64\n",
      "---V27_program_duration_cat---\n",
      "<6 months            3656\n",
      "6 months < 1 year     628\n",
      ">1 year               368\n",
      "Name: V27_program_duration_cat, dtype: int64\n",
      "---V26_finished_measure_grouped---\n",
      "ATM                  1669\n",
      "MRM                  1467\n",
      "Probation             787\n",
      "Community Service     278\n",
      "Other                 257\n",
      "Internment            194\n",
      "Name: V26_finished_measure_grouped, dtype: int64\n",
      "---V6_province---\n",
      "Barcelona    3257\n",
      "Girona        594\n",
      "Tarragona     449\n",
      "Lleida        352\n",
      "Name: V6_province, dtype: int64\n",
      "---V19_committed_crime---\n",
      "Lesions                                        1011\n",
      "Robatori i robatori amb força en les coses      530\n",
      "Furt                                            527\n",
      "Danys                                           401\n",
      "Contra la llibertat                             354\n",
      "Robatori amb violència                          335\n",
      "Robatori amb violència o intimidació            246\n",
      "Trànsit                                         210\n",
      "Violència familiar                              198\n",
      "Robatori i furt d'ús de vehicle a motor         185\n",
      "Robatori amb intimidació                        135\n",
      "Atemptat contra l'autoritat                     133\n",
      "Contra el patrimoni i l'ordre socioeconòmic      84\n",
      "Contra l'ordre públic i interessos generals      67\n",
      "Contra la llibertat sexual                       56\n",
      "Contra l'honor i la intimitat                    36\n",
      "Contra la salud pública                          35\n",
      "Contra l'administració de justícia               34\n",
      "Contra la integritat moral                       27\n",
      "Contra l'administració pública                   17\n",
      "Homicidi i assassinat                            14\n",
      "Falsedats                                        10\n",
      "Incendi                                           7\n",
      "Name: V19_committed_crime, dtype: int64\n",
      "---V4_area_origin---\n",
      "Spain            2972\n",
      "Latin America     727\n",
      "Maghreb           610\n",
      "Europe            244\n",
      "Other              99\n",
      "Name: V4_area_origin, dtype: int64\n",
      "---V1_sex---\n",
      "male      3822\n",
      "female     830\n",
      "Name: V1_sex, dtype: int64\n",
      "---V24_finished_program---\n",
      "Assessorament tècnic menors                  1669\n",
      "Mediació i reparació menors                  1467\n",
      "Llibertat vigilada                            787\n",
      "Prestacions en benefici de la comunitat       278\n",
      "Internament en centre                         178\n",
      "Realització de tasques socioeducatives        152\n",
      "Permanència de cap de setmana en domicili      81\n",
      "Permanència de cap de setmana en centre        11\n",
      "Tractament terapèutic ambulatori                9\n",
      "Internament centre terapèutic                   5\n",
      "Seguiment internament centre terapèutic         4\n",
      "Assistència a centre de dia                     4\n",
      "Règim d'internament en llibertat vigilada       4\n",
      "Convivència amb altres persones                 2\n",
      "Assistència voluntària en medi obert            1\n",
      "Name: V24_finished_program, dtype: int64\n",
      "---V15_main_crime_cat---\n",
      "Against Property    1958\n",
      "Against People      1766\n",
      "Other                928\n",
      "Name: V15_main_crime_cat, dtype: int64\n",
      "---V12_n_criminal_record---\n",
      "0      2412\n",
      "1-2    1360\n",
      "3-5     572\n",
      "5+      308\n",
      "Name: V12_n_criminal_record, dtype: int64\n",
      "---V13_n_crime_cat---\n",
      "1     3259\n",
      "2      979\n",
      "3+     414\n",
      "Name: V13_n_crime_cat, dtype: int64\n"
     ]
    }
   ],
   "source": [
    "# check the types in each categorical data\n",
    "# could be commented, not related to what we did next\n",
    "for each_col in cat_cols:\n",
    "    print('---{}---'.format(each_col))\n",
    "    print(df[each_col].value_counts())"
   ]
  },
  {
   "cell_type": "markdown",
   "id": "98f42a58",
   "metadata": {},
   "source": [
    "Next, we use `get_dummies` function from `pandas` to convert the categorical data into one-hot encodings."
   ]
  },
  {
   "cell_type": "code",
   "execution_count": 39,
   "id": "3ea58e2b",
   "metadata": {},
   "outputs": [
    {
     "data": {
      "text/html": [
       "<div>\n",
       "<style scoped>\n",
       "    .dataframe tbody tr th:only-of-type {\n",
       "        vertical-align: middle;\n",
       "    }\n",
       "\n",
       "    .dataframe tbody tr th {\n",
       "        vertical-align: top;\n",
       "    }\n",
       "\n",
       "    .dataframe thead th {\n",
       "        text-align: right;\n",
       "    }\n",
       "</style>\n",
       "<table border=\"1\" class=\"dataframe\">\n",
       "  <thead>\n",
       "    <tr style=\"text-align: right;\">\n",
       "      <th></th>\n",
       "      <th>V8_age</th>\n",
       "      <th>V9_age_at_program_end</th>\n",
       "      <th>V11_criminal_record</th>\n",
       "      <th>V16_violent_crime</th>\n",
       "      <th>V17_crime_classification</th>\n",
       "      <th>V20_n_juvenile_records</th>\n",
       "      <th>V21_n_crime</th>\n",
       "      <th>V28_days_from_crime_to_program</th>\n",
       "      <th>V29_program_duration</th>\n",
       "      <th>V115_RECID2015_recid</th>\n",
       "      <th>...</th>\n",
       "      <th>V15_main_crime_cat_Against People</th>\n",
       "      <th>V15_main_crime_cat_Against Property</th>\n",
       "      <th>V15_main_crime_cat_Other</th>\n",
       "      <th>V12_n_criminal_record_0</th>\n",
       "      <th>V12_n_criminal_record_1-2</th>\n",
       "      <th>V12_n_criminal_record_3-5</th>\n",
       "      <th>V12_n_criminal_record_5+</th>\n",
       "      <th>V13_n_crime_cat_1</th>\n",
       "      <th>V13_n_crime_cat_2</th>\n",
       "      <th>V13_n_crime_cat_3+</th>\n",
       "    </tr>\n",
       "  </thead>\n",
       "  <tbody>\n",
       "    <tr>\n",
       "      <th>0</th>\n",
       "      <td>15</td>\n",
       "      <td>17</td>\n",
       "      <td>1</td>\n",
       "      <td>1</td>\n",
       "      <td>1</td>\n",
       "      <td>1.0</td>\n",
       "      <td>4</td>\n",
       "      <td>587.0</td>\n",
       "      <td>132</td>\n",
       "      <td>1</td>\n",
       "      <td>...</td>\n",
       "      <td>1</td>\n",
       "      <td>0</td>\n",
       "      <td>0</td>\n",
       "      <td>0</td>\n",
       "      <td>1</td>\n",
       "      <td>0</td>\n",
       "      <td>0</td>\n",
       "      <td>0</td>\n",
       "      <td>0</td>\n",
       "      <td>1</td>\n",
       "    </tr>\n",
       "    <tr>\n",
       "      <th>1</th>\n",
       "      <td>14</td>\n",
       "      <td>15</td>\n",
       "      <td>1</td>\n",
       "      <td>1</td>\n",
       "      <td>1</td>\n",
       "      <td>1.0</td>\n",
       "      <td>2</td>\n",
       "      <td>107.0</td>\n",
       "      <td>258</td>\n",
       "      <td>1</td>\n",
       "      <td>...</td>\n",
       "      <td>1</td>\n",
       "      <td>0</td>\n",
       "      <td>0</td>\n",
       "      <td>0</td>\n",
       "      <td>1</td>\n",
       "      <td>0</td>\n",
       "      <td>0</td>\n",
       "      <td>0</td>\n",
       "      <td>1</td>\n",
       "      <td>0</td>\n",
       "    </tr>\n",
       "    <tr>\n",
       "      <th>2</th>\n",
       "      <td>15</td>\n",
       "      <td>16</td>\n",
       "      <td>1</td>\n",
       "      <td>1</td>\n",
       "      <td>1</td>\n",
       "      <td>4.0</td>\n",
       "      <td>3</td>\n",
       "      <td>135.0</td>\n",
       "      <td>85</td>\n",
       "      <td>1</td>\n",
       "      <td>...</td>\n",
       "      <td>1</td>\n",
       "      <td>0</td>\n",
       "      <td>0</td>\n",
       "      <td>0</td>\n",
       "      <td>0</td>\n",
       "      <td>1</td>\n",
       "      <td>0</td>\n",
       "      <td>0</td>\n",
       "      <td>0</td>\n",
       "      <td>1</td>\n",
       "    </tr>\n",
       "    <tr>\n",
       "      <th>3</th>\n",
       "      <td>14</td>\n",
       "      <td>15</td>\n",
       "      <td>1</td>\n",
       "      <td>1</td>\n",
       "      <td>1</td>\n",
       "      <td>7.0</td>\n",
       "      <td>2</td>\n",
       "      <td>176.0</td>\n",
       "      <td>271</td>\n",
       "      <td>1</td>\n",
       "      <td>...</td>\n",
       "      <td>1</td>\n",
       "      <td>0</td>\n",
       "      <td>0</td>\n",
       "      <td>0</td>\n",
       "      <td>0</td>\n",
       "      <td>0</td>\n",
       "      <td>1</td>\n",
       "      <td>0</td>\n",
       "      <td>1</td>\n",
       "      <td>0</td>\n",
       "    </tr>\n",
       "    <tr>\n",
       "      <th>4</th>\n",
       "      <td>17</td>\n",
       "      <td>20</td>\n",
       "      <td>1</td>\n",
       "      <td>1</td>\n",
       "      <td>1</td>\n",
       "      <td>6.0</td>\n",
       "      <td>3</td>\n",
       "      <td>261.0</td>\n",
       "      <td>533</td>\n",
       "      <td>1</td>\n",
       "      <td>...</td>\n",
       "      <td>1</td>\n",
       "      <td>0</td>\n",
       "      <td>0</td>\n",
       "      <td>0</td>\n",
       "      <td>0</td>\n",
       "      <td>0</td>\n",
       "      <td>1</td>\n",
       "      <td>0</td>\n",
       "      <td>0</td>\n",
       "      <td>1</td>\n",
       "    </tr>\n",
       "  </tbody>\n",
       "</table>\n",
       "<p>5 rows × 89 columns</p>\n",
       "</div>"
      ],
      "text/plain": [
       "   V8_age  V9_age_at_program_end  V11_criminal_record  V16_violent_crime  \\\n",
       "0      15                     17                    1                  1   \n",
       "1      14                     15                    1                  1   \n",
       "2      15                     16                    1                  1   \n",
       "3      14                     15                    1                  1   \n",
       "4      17                     20                    1                  1   \n",
       "\n",
       "   V17_crime_classification  V20_n_juvenile_records  V21_n_crime  \\\n",
       "0                         1                     1.0            4   \n",
       "1                         1                     1.0            2   \n",
       "2                         1                     4.0            3   \n",
       "3                         1                     7.0            2   \n",
       "4                         1                     6.0            3   \n",
       "\n",
       "   V28_days_from_crime_to_program  V29_program_duration  V115_RECID2015_recid  \\\n",
       "0                           587.0                   132                     1   \n",
       "1                           107.0                   258                     1   \n",
       "2                           135.0                    85                     1   \n",
       "3                           176.0                   271                     1   \n",
       "4                           261.0                   533                     1   \n",
       "\n",
       "   ...  V15_main_crime_cat_Against People  \\\n",
       "0  ...                                  1   \n",
       "1  ...                                  1   \n",
       "2  ...                                  1   \n",
       "3  ...                                  1   \n",
       "4  ...                                  1   \n",
       "\n",
       "   V15_main_crime_cat_Against Property  V15_main_crime_cat_Other  \\\n",
       "0                                    0                         0   \n",
       "1                                    0                         0   \n",
       "2                                    0                         0   \n",
       "3                                    0                         0   \n",
       "4                                    0                         0   \n",
       "\n",
       "   V12_n_criminal_record_0  V12_n_criminal_record_1-2  \\\n",
       "0                        0                          1   \n",
       "1                        0                          1   \n",
       "2                        0                          0   \n",
       "3                        0                          0   \n",
       "4                        0                          0   \n",
       "\n",
       "   V12_n_criminal_record_3-5  V12_n_criminal_record_5+  V13_n_crime_cat_1  \\\n",
       "0                          0                         0                  0   \n",
       "1                          0                         0                  0   \n",
       "2                          1                         0                  0   \n",
       "3                          0                         1                  0   \n",
       "4                          0                         1                  0   \n",
       "\n",
       "   V13_n_crime_cat_2  V13_n_crime_cat_3+  \n",
       "0                  0                   1  \n",
       "1                  1                   0  \n",
       "2                  0                   1  \n",
       "3                  1                   0  \n",
       "4                  0                   1  \n",
       "\n",
       "[5 rows x 89 columns]"
      ]
     },
     "execution_count": 39,
     "metadata": {},
     "output_type": "execute_result"
    }
   ],
   "source": [
    "df = pd.get_dummies(df,columns=cat_cols)\n",
    "df.head()"
   ]
  },
  {
   "cell_type": "markdown",
   "id": "638bef50",
   "metadata": {},
   "source": [
    "For Xgboost classifer, it does not allow symbols like '>' and '<' in column names."
   ]
  },
  {
   "cell_type": "code",
   "execution_count": 40,
   "id": "f28418d2",
   "metadata": {},
   "outputs": [
    {
     "name": "stdout",
     "output_type": "stream",
     "text": [
      "V27_program_duration_cat_6 months < 1 year\n",
      "V27_program_duration_cat_<6 months\n",
      "V27_program_duration_cat_>1 year\n"
     ]
    }
   ],
   "source": [
    "# somehow not allowed for xgboost\n",
    "col_names = df.columns\n",
    "for each in col_names:\n",
    "    if '>' in each or '<' in each:\n",
    "        print(each)"
   ]
  },
  {
   "cell_type": "code",
   "execution_count": 41,
   "id": "0720fb4d",
   "metadata": {},
   "outputs": [],
   "source": [
    "df['V27_program_duration_cat_between6monthto1year'] =df['V27_program_duration_cat_6 months < 1 year']\n",
    "df['V27_program_duration_cat_lessthan6month'] =df['V27_program_duration_cat_<6 months']\n",
    "df['V27_program_duration_cat_morethan1year'] =df['V27_program_duration_cat_>1 year']\n",
    "df = df.drop(['V27_program_duration_cat_6 months < 1 year','V27_program_duration_cat_<6 months','V27_program_duration_cat_>1 year'],axis=1)"
   ]
  },
  {
   "cell_type": "markdown",
   "id": "a7724914",
   "metadata": {},
   "source": [
    "Notice that, `get_dummies` function returns the full collection of one-hot encodings. However, we only need `k-1` our of `k` as the last one could be presented as:\n",
    "\n",
    "$y_k = 1$, if $y_i = 0$ for all $i \\in [1,k-1]$\n",
    "\n",
    "$y_k = 0$, otherwise\n",
    "\n",
    "where $k$ represents the class index in one column.\n",
    "\n",
    "Therefore, we remove the less represented class in each categorical attributes."
   ]
  },
  {
   "cell_type": "code",
   "execution_count": 44,
   "id": "65b0af5a",
   "metadata": {},
   "outputs": [],
   "source": [
    "# correlated with other columns\n",
    "columns_to_drop = ['V6_province_Lleida',\n",
    "                   'V19_committed_crime_Violència familiar',\n",
    "                  'V23_territory_of_execution_Tarragona',\n",
    "                  'V12_n_criminal_record_5+',\n",
    "                  'V15_main_crime_cat_Other',\n",
    "                  'V24_finished_program_Tractament terapèutic ambulatori',\n",
    "                  'V4_area_origin_Other',\n",
    "                  'V13_n_crime_cat_3+',\n",
    "                  'V1_sex_female',\n",
    "                   'V26_finished_measure_grouped_Probation',\n",
    "                  'V27_program_duration_cat_morethan1year']"
   ]
  },
  {
   "cell_type": "code",
   "execution_count": 46,
   "id": "084c16fd",
   "metadata": {},
   "outputs": [],
   "source": [
    "sensitive_attributes = ['V1_sex_male',\n",
    "                        'V4_area_origin_Europe','V4_area_origin_Latin America',\n",
    "                        'V4_area_origin_Maghreb','V4_area_origin_Spain']"
   ]
  },
  {
   "cell_type": "code",
   "execution_count": 47,
   "id": "b347ccd6",
   "metadata": {},
   "outputs": [],
   "source": [
    "df = df.drop(columns_to_drop,axis=1)"
   ]
  },
  {
   "cell_type": "markdown",
   "id": "91d897d3",
   "metadata": {},
   "source": [
    "Save to new file if you like."
   ]
  },
  {
   "cell_type": "code",
   "execution_count": 48,
   "id": "a7b5c778",
   "metadata": {},
   "outputs": [],
   "source": [
    "# save new file\n",
    "df.to_csv('../catalan_data_course/catalan-juvenile-recidivism-subset-numeric.csv')  "
   ]
  },
  {
   "cell_type": "code",
   "execution_count": null,
   "id": "3810bbad",
   "metadata": {},
   "outputs": [],
   "source": []
  },
  {
   "cell_type": "code",
   "execution_count": null,
   "id": "db02dd99",
   "metadata": {},
   "outputs": [],
   "source": []
  },
  {
   "cell_type": "code",
   "execution_count": null,
   "id": "46740bc9",
   "metadata": {},
   "outputs": [],
   "source": []
  },
  {
   "cell_type": "markdown",
   "id": "bff8dbb3",
   "metadata": {},
   "source": [
    "## 3. Baseline models (non-DL)"
   ]
  },
  {
   "cell_type": "markdown",
   "id": "c583f867",
   "metadata": {},
   "source": [
    "### 3.1 Random forest from sklearn\n",
    "#### Data preparation\n",
    "<span style=\"color:red\"> NOTICE: A stable and bias-considered split function is needed here.</span>  \n",
    "The one being used is a simple one, not suggested."
   ]
  },
  {
   "cell_type": "code",
   "execution_count": 109,
   "id": "3bc26343",
   "metadata": {},
   "outputs": [],
   "source": [
    "# X - features, drop traget and sensitive attribuets\n",
    "X = df.drop(['V115_RECID2015_recid']+sensitive_attributes, axis=1)\n",
    "\n",
    "# y - recidivism \n",
    "y = df['V115_RECID2015_recid']\n",
    "\n",
    "# A - sensitive attribute(s)\n",
    "A_attributes = sensitive_attributes\n",
    "\n",
    "# y with A, in case we need to subgroup the samples\n",
    "y_with_A = df[['V115_RECID2015_recid']+A_attributes]"
   ]
  },
  {
   "cell_type": "code",
   "execution_count": 110,
   "id": "3213e451",
   "metadata": {},
   "outputs": [],
   "source": [
    "from sklearn.model_selection import train_test_split\n",
    "\n",
    "X_train, X_test, y_train_with_A, y_test_with_A = train_test_split(X, y_with_A, test_size = 0.3, random_state = 42)"
   ]
  },
  {
   "cell_type": "code",
   "execution_count": 111,
   "id": "e4238137",
   "metadata": {},
   "outputs": [],
   "source": [
    "y_train = y_train_with_A.drop(A_attributes,axis=1)\n",
    "y_test = y_test_with_A.drop(A_attributes,axis=1)"
   ]
  },
  {
   "cell_type": "markdown",
   "id": "8eeeb8ac",
   "metadata": {},
   "source": [
    "#### Random forest model from sklearn"
   ]
  },
  {
   "cell_type": "code",
   "execution_count": 112,
   "id": "05c4cdcb",
   "metadata": {},
   "outputs": [
    {
     "name": "stderr",
     "output_type": "stream",
     "text": [
      "C:\\Users\\12632\\AppData\\Local\\Temp\\ipykernel_6716\\1511450123.py:5: DataConversionWarning: A column-vector y was passed when a 1d array was expected. Please change the shape of y to (n_samples,), for example using ravel().\n",
      "  rfc.fit(X_train, y_train)\n"
     ]
    },
    {
     "name": "stdout",
     "output_type": "stream",
     "text": [
      "Model accuracy score : 0.7206\n"
     ]
    }
   ],
   "source": [
    "from sklearn.ensemble import RandomForestClassifier\n",
    "rfc = RandomForestClassifier(random_state=2023,n_estimators=100,criterion='gini',\n",
    "                            min_samples_split=25,\n",
    "                            max_depth=8)\n",
    "rfc.fit(X_train, y_train)\n",
    "\n",
    "# just {0,1} prediction\n",
    "y_pred = rfc.predict(X_test)\n",
    "\n",
    "# prediction probabilities\n",
    "y_pred_prob=rfc.predict_proba(X_test)\n",
    "\n",
    "\n",
    "from sklearn.metrics import accuracy_score\n",
    "print('Model accuracy score : {0:0.4f}'. format(accuracy_score(y_test, y_pred)))"
   ]
  },
  {
   "cell_type": "markdown",
   "id": "8016fc98",
   "metadata": {},
   "source": [
    "`y_pred_prob` looks like this: the first column refers to probability of predicting as '0', which is NO re-offend. The second column refers to probability of predicting as '1', which means re-offend."
   ]
  },
  {
   "cell_type": "code",
   "execution_count": 113,
   "id": "883f3540",
   "metadata": {},
   "outputs": [
    {
     "data": {
      "text/plain": [
       "array([[0.87948837, 0.12051163],\n",
       "       [0.84014302, 0.15985698],\n",
       "       [0.63160468, 0.36839532],\n",
       "       ...,\n",
       "       [0.87857507, 0.12142493],\n",
       "       [0.72978644, 0.27021356],\n",
       "       [0.47564826, 0.52435174]])"
      ]
     },
     "execution_count": 113,
     "metadata": {},
     "output_type": "execute_result"
    }
   ],
   "source": [
    "y_pred_prob"
   ]
  },
  {
   "cell_type": "markdown",
   "id": "8a940399",
   "metadata": {},
   "source": [
    "If you'd like to see a roc curve for all test samples:"
   ]
  },
  {
   "cell_type": "code",
   "execution_count": 114,
   "id": "ad458f0e",
   "metadata": {},
   "outputs": [
    {
     "data": {
      "image/png": "[encoded data removed]",
      "text/plain": [
       "<Figure size 640x480 with 1 Axes>"
      ]
     },
     "metadata": {},
     "output_type": "display_data"
    }
   ],
   "source": [
    "import sklearn\n",
    "fpr,tpr,threshold=sklearn.metrics.roc_curve(y_test,y_pred_prob[:,1])\n",
    "import matplotlib.pyplot as plt\n",
    "plt.plot(fpr,tpr)\n",
    "plt.show()\n",
    "\n",
    "from sklearn.metrics import roc_auc_score\n"
   ]
  },
  {
   "cell_type": "markdown",
   "id": "e1a590ad",
   "metadata": {},
   "source": [
    "And the confusion matrix:"
   ]
  },
  {
   "cell_type": "code",
   "execution_count": 115,
   "id": "5fb7b6ad",
   "metadata": {},
   "outputs": [
    {
     "data": {
      "text/plain": [
       "array([[822,  74],\n",
       "       [316, 184]], dtype=int64)"
      ]
     },
     "execution_count": 115,
     "metadata": {},
     "output_type": "execute_result"
    }
   ],
   "source": [
    "from sklearn.metrics import confusion_matrix\n",
    "confusion_matrix(y_test, y_pred)"
   ]
  },
  {
   "cell_type": "markdown",
   "id": "65a67d3d",
   "metadata": {},
   "source": [
    "## 4. fairness assessment"
   ]
  },
  {
   "cell_type": "markdown",
   "id": "c2519aed",
   "metadata": {},
   "source": [
    "(Feel free to add any thing here! - nina)\n",
    "\n",
    "### faireness metrics\n",
    "\n",
    "There's mainly three types of fairness evaluations according to [this book](https://fairmlbook.org/).\n",
    "\n",
    "* Independence: $P(\\hat{Y}|A=0) = P(\\hat{Y}|A=1)$\n",
    "* Seperation: $P(\\hat{Y}|A=0,Y=1) = P(\\hat{Y}|A=1,Y=1)$\n",
    "* Sufficiency: $P(Y|R=r,A=0) = P(Y|R=r,A=1)$\n",
    "\n",
    "The following are mainly based on [this paper](https://arxiv.org/abs/2209.13177).\n",
    "\n",
    "In practice, **independence**, or Demographic Parity (DP), could be measured by positive predictive rate(PPR), where *PPR equals Positive prediction over total population*.\n",
    "\n",
    "**Seperation**, also named as Equal of Odds, could be measured by True Positive Rate (TPR) and False Positive Rate (FPR).\n",
    "\n",
    "**Sufficiency**, .... (Calibration)\n",
    "\n",
    "### Overall unfairness measurement\n",
    "\n",
    "After computing the faireness of each sensitive group, there's a need to qualify the overall degree of unfairness(fairness).\n",
    "Oftenly, people will use the subtraction, division, standard deviation and normalized range.\n",
    "\n",
    "Take substraction as an example:\n",
    "\n",
    "$$O_{subtraction} = max(\\{M_g\\})-min(\\{M_g\\}) $$\n",
    "\n",
    "where $M_g$ represents the fairness metric of subgroup $g$.\n",
    "\n",
    "\n",
    "### Fairness-accuracy trade-off score\n",
    "\n",
    "We do not want to scrifice too much on accuracy when achieving fairness. \n",
    "\n",
    "Some methods that used before:\n",
    "1) Curve-based method  \n",
    "Originated from [this paper](). The horiconral axis represents one kind of fairness measurement for a model, and the vertical axis shows the ovrall performance on the whole dataset.\n",
    "The closer curve is to the top left corner, the smaller trade-off it has.\n",
    "\n",
    "\n",
    "2) Value-based method  \n",
    "...\n",
    "\n",
    "Notice that the faireness-accuracy trade-off score is on model selection level."
   ]
  },
  {
   "cell_type": "markdown",
   "id": "ffeab0d8",
   "metadata": {},
   "source": [
    "### 4.1 fairness assessment on *gender* and *area of origin*"
   ]
  },
  {
   "cell_type": "code",
   "execution_count": 116,
   "id": "3c841c9a",
   "metadata": {},
   "outputs": [
    {
     "data": {
      "text/plain": [
       "Index(['V115_RECID2015_recid', 'V1_sex_male', 'V4_area_origin_Europe',\n",
       "       'V4_area_origin_Latin America', 'V4_area_origin_Maghreb',\n",
       "       'V4_area_origin_Spain'],\n",
       "      dtype='object')"
      ]
     },
     "execution_count": 116,
     "metadata": {},
     "output_type": "execute_result"
    }
   ],
   "source": [
    "y_test_with_A.columns"
   ]
  },
  {
   "cell_type": "markdown",
   "id": "7241c350",
   "metadata": {},
   "source": [
    "Combine the relevant information into one dataframe:"
   ]
  },
  {
   "cell_type": "code",
   "execution_count": 126,
   "id": "96338d1b",
   "metadata": {},
   "outputs": [],
   "source": [
    "y_pred_prob = y_pred_prob[:,1]"
   ]
  },
  {
   "cell_type": "code",
   "execution_count": 130,
   "id": "86671dc8",
   "metadata": {},
   "outputs": [
    {
     "name": "stderr",
     "output_type": "stream",
     "text": [
      "C:\\Users\\12632\\AppData\\Local\\Temp\\ipykernel_6716\\4251056041.py:1: FutureWarning: The pandas.np module is deprecated and will be removed from pandas in a future version. Import numpy directly instead.\n",
      "  prediction_prob_with_A = pd.DataFrame(pd.np.column_stack([y_test_with_A, y_pred_prob]))\n"
     ]
    }
   ],
   "source": [
    "prediction_prob_with_A = pd.DataFrame(pd.np.column_stack([y_test_with_A, y_pred_prob]))\n",
    "prediction_prob_with_A.columns =['target_recid', 'gender', \n",
    "                                 'origin_Europe', 'origin_Latin_America','origin_Maghreb','origin_Spain',\n",
    "                                'pred_recid']"
   ]
  },
  {
   "cell_type": "code",
   "execution_count": 131,
   "id": "365d2ab8",
   "metadata": {},
   "outputs": [
    {
     "data": {
      "text/html": [
       "<div>\n",
       "<style scoped>\n",
       "    .dataframe tbody tr th:only-of-type {\n",
       "        vertical-align: middle;\n",
       "    }\n",
       "\n",
       "    .dataframe tbody tr th {\n",
       "        vertical-align: top;\n",
       "    }\n",
       "\n",
       "    .dataframe thead th {\n",
       "        text-align: right;\n",
       "    }\n",
       "</style>\n",
       "<table border=\"1\" class=\"dataframe\">\n",
       "  <thead>\n",
       "    <tr style=\"text-align: right;\">\n",
       "      <th></th>\n",
       "      <th>target_recid</th>\n",
       "      <th>gender</th>\n",
       "      <th>origin_Europe</th>\n",
       "      <th>origin_Latin_America</th>\n",
       "      <th>origin_Maghreb</th>\n",
       "      <th>origin_Spain</th>\n",
       "      <th>pred_recid</th>\n",
       "    </tr>\n",
       "  </thead>\n",
       "  <tbody>\n",
       "    <tr>\n",
       "      <th>0</th>\n",
       "      <td>0.0</td>\n",
       "      <td>1.0</td>\n",
       "      <td>0.0</td>\n",
       "      <td>0.0</td>\n",
       "      <td>0.0</td>\n",
       "      <td>1.0</td>\n",
       "      <td>0.120512</td>\n",
       "    </tr>\n",
       "    <tr>\n",
       "      <th>1</th>\n",
       "      <td>0.0</td>\n",
       "      <td>1.0</td>\n",
       "      <td>0.0</td>\n",
       "      <td>0.0</td>\n",
       "      <td>0.0</td>\n",
       "      <td>1.0</td>\n",
       "      <td>0.159857</td>\n",
       "    </tr>\n",
       "    <tr>\n",
       "      <th>2</th>\n",
       "      <td>1.0</td>\n",
       "      <td>1.0</td>\n",
       "      <td>0.0</td>\n",
       "      <td>1.0</td>\n",
       "      <td>0.0</td>\n",
       "      <td>0.0</td>\n",
       "      <td>0.368395</td>\n",
       "    </tr>\n",
       "    <tr>\n",
       "      <th>3</th>\n",
       "      <td>1.0</td>\n",
       "      <td>1.0</td>\n",
       "      <td>0.0</td>\n",
       "      <td>0.0</td>\n",
       "      <td>0.0</td>\n",
       "      <td>1.0</td>\n",
       "      <td>0.248765</td>\n",
       "    </tr>\n",
       "    <tr>\n",
       "      <th>4</th>\n",
       "      <td>0.0</td>\n",
       "      <td>0.0</td>\n",
       "      <td>0.0</td>\n",
       "      <td>0.0</td>\n",
       "      <td>0.0</td>\n",
       "      <td>1.0</td>\n",
       "      <td>0.284703</td>\n",
       "    </tr>\n",
       "  </tbody>\n",
       "</table>\n",
       "</div>"
      ],
      "text/plain": [
       "   target_recid  gender  origin_Europe  origin_Latin_America  origin_Maghreb  \\\n",
       "0           0.0     1.0            0.0                   0.0             0.0   \n",
       "1           0.0     1.0            0.0                   0.0             0.0   \n",
       "2           1.0     1.0            0.0                   1.0             0.0   \n",
       "3           1.0     1.0            0.0                   0.0             0.0   \n",
       "4           0.0     0.0            0.0                   0.0             0.0   \n",
       "\n",
       "   origin_Spain  pred_recid  \n",
       "0           1.0    0.120512  \n",
       "1           1.0    0.159857  \n",
       "2           0.0    0.368395  \n",
       "3           1.0    0.248765  \n",
       "4           1.0    0.284703  "
      ]
     },
     "execution_count": 131,
     "metadata": {},
     "output_type": "execute_result"
    }
   ],
   "source": [
    "prediction_prob_with_A.head(5)"
   ]
  },
  {
   "cell_type": "markdown",
   "id": "4bf4bf42",
   "metadata": {},
   "source": [
    "Convert from onhot encoding back to categorial data:"
   ]
  },
  {
   "cell_type": "code",
   "execution_count": 132,
   "id": "4d589916",
   "metadata": {},
   "outputs": [],
   "source": [
    "conditions = [\n",
    "    (prediction_prob_with_A['origin_Europe'] == 1),\n",
    "    (prediction_prob_with_A['origin_Latin_America'] == 1),\n",
    "    (prediction_prob_with_A['origin_Maghreb'] == 1),\n",
    "    (prediction_prob_with_A['origin_Spain'] == 1),\n",
    "    (prediction_prob_with_A['origin_Europe'] == 0) & (prediction_prob_with_A['origin_Latin_America'] == 0) & \n",
    "        (prediction_prob_with_A['origin_Maghreb'] == 0) & (prediction_prob_with_A['origin_Spain'] == 0)\n",
    "]\n",
    "\n",
    "results=['Europe','Latin_America','Maghreb','Spain','Other']\n",
    "\n",
    "prediction_prob_with_A['area_origin'] = np.select(conditions, results)"
   ]
  },
  {
   "cell_type": "markdown",
   "id": "00cf02b0",
   "metadata": {},
   "source": [
    "drop the rest columns"
   ]
  },
  {
   "cell_type": "code",
   "execution_count": 133,
   "id": "2f0e2f92",
   "metadata": {},
   "outputs": [],
   "source": [
    "prediction_prob_with_A = prediction_prob_with_A.drop(['origin_Europe','origin_Latin_America','origin_Maghreb','origin_Spain'],axis=1)"
   ]
  },
  {
   "cell_type": "code",
   "execution_count": 134,
   "id": "b7cad6d5",
   "metadata": {},
   "outputs": [
    {
     "data": {
      "text/html": [
       "<div>\n",
       "<style scoped>\n",
       "    .dataframe tbody tr th:only-of-type {\n",
       "        vertical-align: middle;\n",
       "    }\n",
       "\n",
       "    .dataframe tbody tr th {\n",
       "        vertical-align: top;\n",
       "    }\n",
       "\n",
       "    .dataframe thead th {\n",
       "        text-align: right;\n",
       "    }\n",
       "</style>\n",
       "<table border=\"1\" class=\"dataframe\">\n",
       "  <thead>\n",
       "    <tr style=\"text-align: right;\">\n",
       "      <th></th>\n",
       "      <th>target_recid</th>\n",
       "      <th>gender</th>\n",
       "      <th>pred_recid</th>\n",
       "      <th>area_origin</th>\n",
       "    </tr>\n",
       "  </thead>\n",
       "  <tbody>\n",
       "    <tr>\n",
       "      <th>0</th>\n",
       "      <td>0.0</td>\n",
       "      <td>1.0</td>\n",
       "      <td>0.120512</td>\n",
       "      <td>Spain</td>\n",
       "    </tr>\n",
       "    <tr>\n",
       "      <th>1</th>\n",
       "      <td>0.0</td>\n",
       "      <td>1.0</td>\n",
       "      <td>0.159857</td>\n",
       "      <td>Spain</td>\n",
       "    </tr>\n",
       "    <tr>\n",
       "      <th>2</th>\n",
       "      <td>1.0</td>\n",
       "      <td>1.0</td>\n",
       "      <td>0.368395</td>\n",
       "      <td>Latin_America</td>\n",
       "    </tr>\n",
       "    <tr>\n",
       "      <th>3</th>\n",
       "      <td>1.0</td>\n",
       "      <td>1.0</td>\n",
       "      <td>0.248765</td>\n",
       "      <td>Spain</td>\n",
       "    </tr>\n",
       "    <tr>\n",
       "      <th>4</th>\n",
       "      <td>0.0</td>\n",
       "      <td>0.0</td>\n",
       "      <td>0.284703</td>\n",
       "      <td>Spain</td>\n",
       "    </tr>\n",
       "  </tbody>\n",
       "</table>\n",
       "</div>"
      ],
      "text/plain": [
       "   target_recid  gender  pred_recid    area_origin\n",
       "0           0.0     1.0    0.120512          Spain\n",
       "1           0.0     1.0    0.159857          Spain\n",
       "2           1.0     1.0    0.368395  Latin_America\n",
       "3           1.0     1.0    0.248765          Spain\n",
       "4           0.0     0.0    0.284703          Spain"
      ]
     },
     "execution_count": 134,
     "metadata": {},
     "output_type": "execute_result"
    }
   ],
   "source": [
    "prediction_prob_with_A.head(5)"
   ]
  },
  {
   "cell_type": "markdown",
   "id": "3e00f7db",
   "metadata": {},
   "source": [
    "#### Some statistics"
   ]
  },
  {
   "cell_type": "code",
   "execution_count": 140,
   "id": "4b76bb50",
   "metadata": {},
   "outputs": [
    {
     "data": {
      "text/html": [
       "<div>\n",
       "<style scoped>\n",
       "    .dataframe tbody tr th:only-of-type {\n",
       "        vertical-align: middle;\n",
       "    }\n",
       "\n",
       "    .dataframe tbody tr th {\n",
       "        vertical-align: top;\n",
       "    }\n",
       "\n",
       "    .dataframe thead th {\n",
       "        text-align: right;\n",
       "    }\n",
       "</style>\n",
       "<table border=\"1\" class=\"dataframe\">\n",
       "  <thead>\n",
       "    <tr style=\"text-align: right;\">\n",
       "      <th></th>\n",
       "      <th>target_recid</th>\n",
       "      <th>pred_recid</th>\n",
       "    </tr>\n",
       "    <tr>\n",
       "      <th>gender</th>\n",
       "      <th></th>\n",
       "      <th></th>\n",
       "    </tr>\n",
       "  </thead>\n",
       "  <tbody>\n",
       "    <tr>\n",
       "      <th>0.0</th>\n",
       "      <td>0.179592</td>\n",
       "      <td>0.301155</td>\n",
       "    </tr>\n",
       "    <tr>\n",
       "      <th>1.0</th>\n",
       "      <td>0.396177</td>\n",
       "      <td>0.348937</td>\n",
       "    </tr>\n",
       "  </tbody>\n",
       "</table>\n",
       "</div>"
      ],
      "text/plain": [
       "        target_recid  pred_recid\n",
       "gender                          \n",
       "0.0         0.179592    0.301155\n",
       "1.0         0.396177    0.348937"
      ]
     },
     "execution_count": 140,
     "metadata": {},
     "output_type": "execute_result"
    }
   ],
   "source": [
    "prediction_prob_with_A.groupby('gender').mean()[['target_recid','pred_recid']]"
   ]
  },
  {
   "cell_type": "code",
   "execution_count": 175,
   "id": "843d3542",
   "metadata": {},
   "outputs": [
    {
     "data": {
      "text/plain": [
       "[]"
      ]
     },
     "execution_count": 175,
     "metadata": {},
     "output_type": "execute_result"
    },
    {
     "data": {
      "text/plain": [
       "<Figure size 640x480 with 0 Axes>"
      ]
     },
     "metadata": {},
     "output_type": "display_data"
    },
    {
     "data": {
      "image/png": "[encoded data removed]",
      "text/plain": [
       "<Figure size 640x480 with 1 Axes>"
      ]
     },
     "metadata": {},
     "output_type": "display_data"
    }
   ],
   "source": [
    "\n",
    "res = prediction_prob_with_A.groupby('gender').mean()[['target_recid','pred_recid']]\n",
    "plt.figure()\n",
    "prediction_prob_with_A[['gender','pred_recid']].boxplot(by='gender')\n",
    "plt.scatter(1,res['target_recid'][0.0],color='coral')\n",
    "plt.scatter(2,res['target_recid'][1.0],color='coral',label='mean_target_recid')\n",
    "plt.legend()\n",
    "plt.xticks([1,2], ['female','male'])\n",
    "plt.plot()"
   ]
  },
  {
   "cell_type": "code",
   "execution_count": 136,
   "id": "7390f12a",
   "metadata": {},
   "outputs": [
    {
     "data": {
      "text/html": [
       "<div>\n",
       "<style scoped>\n",
       "    .dataframe tbody tr th:only-of-type {\n",
       "        vertical-align: middle;\n",
       "    }\n",
       "\n",
       "    .dataframe tbody tr th {\n",
       "        vertical-align: top;\n",
       "    }\n",
       "\n",
       "    .dataframe thead th {\n",
       "        text-align: right;\n",
       "    }\n",
       "</style>\n",
       "<table border=\"1\" class=\"dataframe\">\n",
       "  <thead>\n",
       "    <tr style=\"text-align: right;\">\n",
       "      <th></th>\n",
       "      <th>target_recid</th>\n",
       "      <th>pred_recid</th>\n",
       "    </tr>\n",
       "    <tr>\n",
       "      <th>area_origin</th>\n",
       "      <th></th>\n",
       "      <th></th>\n",
       "    </tr>\n",
       "  </thead>\n",
       "  <tbody>\n",
       "    <tr>\n",
       "      <th>Europe</th>\n",
       "      <td>0.361446</td>\n",
       "      <td>0.369835</td>\n",
       "    </tr>\n",
       "    <tr>\n",
       "      <th>Latin_America</th>\n",
       "      <td>0.401914</td>\n",
       "      <td>0.335341</td>\n",
       "    </tr>\n",
       "    <tr>\n",
       "      <th>Maghreb</th>\n",
       "      <td>0.502591</td>\n",
       "      <td>0.413645</td>\n",
       "    </tr>\n",
       "    <tr>\n",
       "      <th>Other</th>\n",
       "      <td>0.322581</td>\n",
       "      <td>0.341209</td>\n",
       "    </tr>\n",
       "    <tr>\n",
       "      <th>Spain</th>\n",
       "      <td>0.317045</td>\n",
       "      <td>0.322972</td>\n",
       "    </tr>\n",
       "  </tbody>\n",
       "</table>\n",
       "</div>"
      ],
      "text/plain": [
       "               target_recid  pred_recid\n",
       "area_origin                            \n",
       "Europe             0.361446    0.369835\n",
       "Latin_America      0.401914    0.335341\n",
       "Maghreb            0.502591    0.413645\n",
       "Other              0.322581    0.341209\n",
       "Spain              0.317045    0.322972"
      ]
     },
     "execution_count": 136,
     "metadata": {},
     "output_type": "execute_result"
    }
   ],
   "source": [
    "prediction_prob_with_A.groupby('area_origin').mean()[['target_recid','pred_recid']]"
   ]
  },
  {
   "cell_type": "code",
   "execution_count": 177,
   "id": "bc94d340",
   "metadata": {},
   "outputs": [
    {
     "data": {
      "text/plain": [
       "area_origin\n",
       "Europe           0.361446\n",
       "Latin_America    0.401914\n",
       "Maghreb          0.502591\n",
       "Other            0.322581\n",
       "Spain            0.317045\n",
       "Name: target_recid, dtype: float64"
      ]
     },
     "execution_count": 177,
     "metadata": {},
     "output_type": "execute_result"
    }
   ],
   "source": [
    "res['target_recid']"
   ]
  },
  {
   "cell_type": "code",
   "execution_count": 181,
   "id": "1b51c2b3",
   "metadata": {},
   "outputs": [
    {
     "data": {
      "text/plain": [
       "[]"
      ]
     },
     "execution_count": 181,
     "metadata": {},
     "output_type": "execute_result"
    },
    {
     "data": {
      "text/plain": [
       "<Figure size 640x480 with 0 Axes>"
      ]
     },
     "metadata": {},
     "output_type": "display_data"
    },
    {
     "data": {
      "image/png": "[encoded data removed]",
      "text/plain": [
       "<Figure size 640x480 with 1 Axes>"
      ]
     },
     "metadata": {},
     "output_type": "display_data"
    }
   ],
   "source": [
    "res = prediction_prob_with_A.groupby('area_origin').mean()[['target_recid','pred_recid']]\n",
    "plt.figure()\n",
    "prediction_prob_with_A[['area_origin','pred_recid']].boxplot(by='area_origin')\n",
    "plt.scatter(1,res['target_recid']['Europe'],color='coral')\n",
    "plt.scatter(2,res['target_recid']['Latin_America'],color='coral',label='mean_target_recid')\n",
    "plt.scatter(3,res['target_recid']['Maghreb'],color='coral')\n",
    "plt.scatter(4,res['target_recid']['Other'],color='coral')\n",
    "plt.scatter(5,res['target_recid']['Spain'],color='coral')\n",
    "plt.legend()\n",
    "# plt.xticks([1,2], ['female','male'])\n",
    "plt.plot()"
   ]
  },
  {
   "cell_type": "markdown",
   "id": "804f6576",
   "metadata": {},
   "source": [
    "This already could be used to measure independence"
   ]
  },
  {
   "cell_type": "code",
   "execution_count": null,
   "id": "e26b7717",
   "metadata": {},
   "outputs": [],
   "source": []
  },
  {
   "cell_type": "code",
   "execution_count": null,
   "id": "43e17ebd",
   "metadata": {},
   "outputs": [],
   "source": []
  },
  {
   "cell_type": "code",
   "execution_count": 146,
   "id": "be001a6e",
   "metadata": {},
   "outputs": [],
   "source": [
    "# male_X_test = X_test[X_test['V1_sex_female']==0]\n",
    "# male_y_test_with_A = y_test_with_A[y_test_with_A['V1_sex_female']==0]\n",
    "\n",
    "# female_X_test = X_test[X_test['V1_sex_female']==1]\n",
    "# female_y_test_with_A = y_test_with_A[y_test_with_A['V1_sex_female']==1]\n",
    "# print(len(female_X_test))\n",
    "# print(len(male_X_test))\n",
    "\n",
    "# Europe_X_test = X_test[X_test['V4_area_origin_Europe']==1]\n",
    "# Latin_America_X_test = X_test[X_test['V4_area_origin_Latin America']==1]\n",
    "# Maghreb_X_test = X_test[X_test['V4_area_origin_Maghreb']==1]\n",
    "# print(len(Europe_X_test))\n",
    "# print(len(Latin_America_X_test))\n",
    "# print(len(Maghreb_X_test))"
   ]
  },
  {
   "cell_type": "markdown",
   "id": "c351a82b",
   "metadata": {},
   "source": [
    "Seperation - ROC & TP & FP"
   ]
  },
  {
   "cell_type": "code",
   "execution_count": 191,
   "id": "705c6f0e",
   "metadata": {},
   "outputs": [],
   "source": [
    "fpr,tpr,threshold=sklearn.metrics.roc_curve(prediction_prob_with_A['target_recid'],\n",
    "                                                           prediction_prob_with_A['pred_recid'])"
   ]
  },
  {
   "cell_type": "code",
   "execution_count": 187,
   "id": "1f7f8f11",
   "metadata": {},
   "outputs": [],
   "source": [
    "male_prediction_prob_with_A = prediction_prob_with_A[prediction_prob_with_A['gender']==1]\n",
    "\n",
    "fpr_male,tpr_male,threshold_male=sklearn.metrics.roc_curve(male_prediction_prob_with_A['target_recid'],\n",
    "                                                           male_prediction_prob_with_A['pred_recid'])\n",
    "\n",
    "female_prediction_prob_with_A =prediction_prob_with_A[prediction_prob_with_A['gender']==0]\n",
    "fpr_female,tpr_female,threshold_female=sklearn.metrics.roc_curve(female_prediction_prob_with_A['target_recid'],\n",
    "                                                           female_prediction_prob_with_A['pred_recid'])"
   ]
  },
  {
   "cell_type": "code",
   "execution_count": 215,
   "id": "70cd5065",
   "metadata": {},
   "outputs": [
    {
     "name": "stdout",
     "output_type": "stream",
     "text": [
      "AUROC for male:0.7354\n",
      "AUROC for female:0.7609\n"
     ]
    }
   ],
   "source": [
    "print('AUROC for male:{:.4f}'.format(roc_auc_score(male_prediction_prob_with_A['target_recid'],\n",
    "                                                   male_prediction_prob_with_A['pred_recid'])))\n",
    "print('AUROC for female:{:.4f}'.format(roc_auc_score(female_prediction_prob_with_A['target_recid'],\n",
    "                                                   female_prediction_prob_with_A['pred_recid'])))"
   ]
  },
  {
   "cell_type": "code",
   "execution_count": 216,
   "id": "ba45d07e",
   "metadata": {},
   "outputs": [
    {
     "data": {
      "image/png": "[encoded data removed]",
      "text/plain": [
       "<Figure size 640x480 with 1 Axes>"
      ]
     },
     "metadata": {},
     "output_type": "display_data"
    }
   ],
   "source": [
    "plt.figure()\n",
    "plt.plot(fpr_male,tpr_male,label='male')\n",
    "plt.plot(fpr_female,tpr_female,label='female')\n",
    "plt.xlabel('fpr')\n",
    "plt.ylabel('tpr')\n",
    "plt.legend()\n",
    "plt.show()"
   ]
  },
  {
   "cell_type": "code",
   "execution_count": 224,
   "id": "4619b532",
   "metadata": {},
   "outputs": [],
   "source": [
    "origins_list=['Europe','Latin_America','Spain','Maghreb','Other']\n",
    "roc_info={}\n",
    "for each_origin in origins_list:\n",
    "    seg_prediction_prob_with_A = prediction_prob_with_A[prediction_prob_with_A['area_origin']==each_origin]\n",
    "    fpr_seg,tpr_seg,threshold_seg=sklearn.metrics.roc_curve(seg_prediction_prob_with_A['target_recid'],\n",
    "                                                            seg_prediction_prob_with_A['pred_recid'])\n",
    "    tmp = {}\n",
    "    tmp['fpr'] = fpr_seg\n",
    "    tmp['tpr'] = tpr_seg\n",
    "    \n",
    "    roc_info[each_origin]=tmp\n",
    "    "
   ]
  },
  {
   "cell_type": "code",
   "execution_count": 225,
   "id": "ec8eda84",
   "metadata": {},
   "outputs": [
    {
     "data": {
      "image/png": "[encoded data removed]",
      "text/plain": [
       "<Figure size 640x480 with 1 Axes>"
      ]
     },
     "metadata": {},
     "output_type": "display_data"
    }
   ],
   "source": [
    "plt.figure()\n",
    "for each_origin in origins_list:\n",
    "    plt.plot(roc_info[each_origin]['fpr'],roc_info[each_origin]['tpr'],label=each_origin)\n",
    "\n",
    "plt.xlabel('fpr')\n",
    "plt.ylabel('tpr')\n",
    "plt.legend()\n",
    "plt.show()"
   ]
  },
  {
   "cell_type": "code",
   "execution_count": null,
   "id": "21601393",
   "metadata": {},
   "outputs": [],
   "source": []
  },
  {
   "cell_type": "code",
   "execution_count": null,
   "id": "ac9a3f15",
   "metadata": {},
   "outputs": [],
   "source": []
  },
  {
   "cell_type": "code",
   "execution_count": 211,
   "id": "3409a2ca",
   "metadata": {},
   "outputs": [],
   "source": [
    "# def Find_Optimal_Cutoff(target, predicted):\n",
    "#     fpr, tpr, threshold = sklearn.metrics.roc_curve(target, predicted)\n",
    "#     i = np.arange(len(tpr)) \n",
    "#     roc = pd.DataFrame({'tf' : pd.Series(tpr-(1-fpr), index=i), 'threshold' : pd.Series(threshold, index=i)})\n",
    "#     roc_t = roc.iloc[(roc.tf-0).abs().argsort()[:1]]\n",
    "\n",
    "#     return list(roc_t['threshold']) \n",
    "\n",
    "# threshold = Find_Optimal_Cutoff(prediction_prob_with_A['target_recid'],prediction_prob_with_A['pred_recid'])\n",
    "# print(threshold[0])\n",
    "# pred_recid_round = [1 if x > threshold[0] else 0 for x in prediction_prob_with_A['pred_recid']]\n",
    "# print('Model accuracy score : {0:0.4f}'.format(accuracy_score(prediction_prob_with_A['target_recid'],\n",
    "#                                                               pred_recid_round)))"
   ]
  },
  {
   "cell_type": "code",
   "execution_count": 212,
   "id": "d6fdbdc5",
   "metadata": {},
   "outputs": [],
   "source": [
    "# print('Model accuracy score : {0:0.4f}'.format(accuracy_score(male_y_test_with_A['V115_RECID2015_recid'], rfc.predict(male_X_test))))\n",
    "# cnfm = confusion_matrix(male_y_test_with_A['V115_RECID2015_recid'], rfc.predict(male_X_test))\n",
    "# print(cnfm)\n",
    "# print('False negative rate for male:{:.4f}'.format(cnfm[1][0]/np.sum(cnfm)))\n",
    "# print('False positive rate for male:{:.4f}'.format(cnfm[0][1]/np.sum(cnfm)))"
   ]
  },
  {
   "cell_type": "code",
   "execution_count": 217,
   "id": "3c07da70",
   "metadata": {},
   "outputs": [],
   "source": [
    "# y_pred_prob=rfc.predict_proba(female_X_test)\n",
    "# fpr_female,tpr_female,threshold_female=sklearn.metrics.roc_curve(female_y_test_with_A['V115_RECID2015_recid'],y_pred_prob[:,1])\n",
    "\n",
    "\n",
    "# print('Model accuracy score : {0:0.4f}'. format(accuracy_score(female_y_test_with_A['V115_RECID2015_recid'], \n",
    "#                                                                rfc.predict(female_X_test))))\n",
    "# cnfm =confusion_matrix(female_y_test_with_A['V115_RECID2015_recid'], rfc.predict(female_X_test))\n",
    "# print(cnfm)\n",
    "# print('False negative rate for female:{:.4f}'.format(cnfm[1][0]/np.sum(cnfm)))\n",
    "# print('False positive rate for female:{:.4f}'.format(cnfm[0][1]/np.sum(cnfm)))\n",
    "                                                                           "
   ]
  },
  {
   "cell_type": "markdown",
   "id": "eb1f548b",
   "metadata": {},
   "source": [
    "### * xgboost"
   ]
  },
  {
   "cell_type": "code",
   "execution_count": 133,
   "id": "2948e591",
   "metadata": {},
   "outputs": [
    {
     "name": "stderr",
     "output_type": "stream",
     "text": [
      "C:\\Users\\12632\\.conda\\envs\\eegeyenet_benchmark\\lib\\site-packages\\xgboost\\data.py:250: FutureWarning: pandas.Int64Index is deprecated and will be removed from pandas in a future version. Use pandas.Index with the appropriate dtype instead.\n",
      "  elif isinstance(data.columns, (pd.Int64Index, pd.RangeIndex)):\n",
      "C:\\Users\\12632\\.conda\\envs\\eegeyenet_benchmark\\lib\\site-packages\\xgboost\\data.py:250: FutureWarning: pandas.Int64Index is deprecated and will be removed from pandas in a future version. Use pandas.Index with the appropriate dtype instead.\n",
      "  elif isinstance(data.columns, (pd.Int64Index, pd.RangeIndex)):\n"
     ]
    }
   ],
   "source": [
    "\n",
    "from xgboost import XGBClassifier\n",
    "import xgboost as xgb\n",
    "\n",
    "model = XGBClassifier()\n",
    "\n",
    "dtrain_reg = xgb.DMatrix(X_train, y_train, enable_categorical=True)\n",
    "dtest_reg = xgb.DMatrix(X_test, y_test, enable_categorical=True)\n",
    "\n",
    "\n",
    "params = {'max_depth':5, 'eta': 0.3, 'objective': 'binary:logistic','eval_metric':'auc'}\n",
    "n=300\n",
    "model = xgb.train(\n",
    "\n",
    "   params=params,\n",
    "\n",
    "   dtrain=dtrain_reg,\n",
    "\n",
    "   num_boost_round=n,\n",
    "\n",
    ")\n",
    "# model.fit(X_train, y_train)"
   ]
  },
  {
   "cell_type": "code",
   "execution_count": 134,
   "id": "8fc901b3",
   "metadata": {},
   "outputs": [],
   "source": [
    "y_pred = model.predict(dtest_reg)\n",
    "predictions = [round(value) for value in y_pred]"
   ]
  },
  {
   "cell_type": "code",
   "execution_count": 135,
   "id": "cc1283b0",
   "metadata": {},
   "outputs": [
    {
     "name": "stdout",
     "output_type": "stream",
     "text": [
      "Accuracy: 67.91%\n"
     ]
    }
   ],
   "source": [
    "# evaluate predictions\n",
    "accuracy = accuracy_score(y_test, predictions)\n",
    "print(\"Accuracy: %.2f%%\" % (accuracy * 100.0))"
   ]
  },
  {
   "cell_type": "code",
   "execution_count": 102,
   "id": "06b958fb",
   "metadata": {},
   "outputs": [
    {
     "data": {
      "text/plain": [
       "4072    0\n",
       "2817    0\n",
       "33      0\n",
       "2293    0\n",
       "4125    1\n",
       "       ..\n",
       "1490    0\n",
       "2889    0\n",
       "729     0\n",
       "2387    0\n",
       "2178    1\n",
       "Name: V1_sex_female, Length: 1536, dtype: uint8"
      ]
     },
     "execution_count": 102,
     "metadata": {},
     "output_type": "execute_result"
    }
   ],
   "source": [
    "X_test['V1_sex_female']"
   ]
  },
  {
   "cell_type": "code",
   "execution_count": null,
   "id": "55345b1f",
   "metadata": {},
   "outputs": [],
   "source": []
  }
 ],
 "metadata": {
  "kernelspec": {
   "display_name": "Python 3 (ipykernel)",
   "language": "python",
   "name": "python3"
  },
  "language_info": {
   "codemirror_mode": {
    "name": "ipython",
    "version": 3
   },
   "file_extension": ".py",
   "mimetype": "text/x-python",
   "name": "python",
   "nbconvert_exporter": "python",
   "pygments_lexer": "ipython3",
   "version": "3.8.5"
  }
 },
 "nbformat": 4,
 "nbformat_minor": 5
}
