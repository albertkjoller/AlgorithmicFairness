{
 "cells": [
  {
   "cell_type": "code",
   "execution_count": 2,
   "id": "2e7c68ee",
   "metadata": {},
   "outputs": [],
   "source": [
    "import numpy as np # linear algebra\n",
    "import pandas as pd # data processing, CSV file I/O (e.g. pd.read_csv)\n",
    "import matplotlib.pyplot as plt # data visualization\n",
    "import seaborn as sns # statistical data visualization"
   ]
  },
  {
   "cell_type": "markdown",
   "id": "2a2a7586",
   "metadata": {},
   "source": [
    "## load data"
   ]
  },
  {
   "cell_type": "code",
   "execution_count": 124,
   "id": "7f07df05",
   "metadata": {},
   "outputs": [],
   "source": [
    "csv_file = '../catalan_data_course/catalan-juvenile-recidivism-subset.csv'\n",
    "df = pd.read_csv(csv_file, header=0)"
   ]
  },
  {
   "cell_type": "code",
   "execution_count": 125,
   "id": "1c75f896",
   "metadata": {},
   "outputs": [
    {
     "data": {
      "text/html": [
       "<div>\n",
       "<style scoped>\n",
       "    .dataframe tbody tr th:only-of-type {\n",
       "        vertical-align: middle;\n",
       "    }\n",
       "\n",
       "    .dataframe tbody tr th {\n",
       "        vertical-align: top;\n",
       "    }\n",
       "\n",
       "    .dataframe thead th {\n",
       "        text-align: right;\n",
       "    }\n",
       "</style>\n",
       "<table border=\"1\" class=\"dataframe\">\n",
       "  <thead>\n",
       "    <tr style=\"text-align: right;\">\n",
       "      <th></th>\n",
       "      <th>id</th>\n",
       "      <th>V1_sex</th>\n",
       "      <th>V4_area_origin</th>\n",
       "      <th>V6_province</th>\n",
       "      <th>V8_age</th>\n",
       "      <th>V9_age_at_program_end</th>\n",
       "      <th>V11_criminal_record</th>\n",
       "      <th>V12_n_criminal_record</th>\n",
       "      <th>V13_n_crime_cat</th>\n",
       "      <th>V15_main_crime_cat</th>\n",
       "      <th>...</th>\n",
       "      <th>V28_days_from_crime_to_program</th>\n",
       "      <th>V29_program_duration</th>\n",
       "      <th>V115_RECID2015_recid</th>\n",
       "      <th>V10_date_of_birth_year</th>\n",
       "      <th>V10_date_of_birth_month</th>\n",
       "      <th>V22_main_crime_date_year</th>\n",
       "      <th>V22_main_crime_date_month</th>\n",
       "      <th>V30_program_start_year</th>\n",
       "      <th>V30_program_start_month</th>\n",
       "      <th>V31_program_end_month</th>\n",
       "    </tr>\n",
       "  </thead>\n",
       "  <tbody>\n",
       "    <tr>\n",
       "      <th>0</th>\n",
       "      <td>691</td>\n",
       "      <td>male</td>\n",
       "      <td>Spain</td>\n",
       "      <td>Lleida</td>\n",
       "      <td>15</td>\n",
       "      <td>17</td>\n",
       "      <td>1</td>\n",
       "      <td>1-2</td>\n",
       "      <td>3+</td>\n",
       "      <td>Against People</td>\n",
       "      <td>...</td>\n",
       "      <td>587.0</td>\n",
       "      <td>132</td>\n",
       "      <td>1</td>\n",
       "      <td>1992</td>\n",
       "      <td>11</td>\n",
       "      <td>2008</td>\n",
       "      <td>8</td>\n",
       "      <td>2010</td>\n",
       "      <td>4</td>\n",
       "      <td>8</td>\n",
       "    </tr>\n",
       "    <tr>\n",
       "      <th>1</th>\n",
       "      <td>956</td>\n",
       "      <td>female</td>\n",
       "      <td>Spain</td>\n",
       "      <td>Barcelona</td>\n",
       "      <td>14</td>\n",
       "      <td>15</td>\n",
       "      <td>1</td>\n",
       "      <td>1-2</td>\n",
       "      <td>2</td>\n",
       "      <td>Against People</td>\n",
       "      <td>...</td>\n",
       "      <td>107.0</td>\n",
       "      <td>258</td>\n",
       "      <td>1</td>\n",
       "      <td>1995</td>\n",
       "      <td>7</td>\n",
       "      <td>2009</td>\n",
       "      <td>8</td>\n",
       "      <td>2009</td>\n",
       "      <td>12</td>\n",
       "      <td>8</td>\n",
       "    </tr>\n",
       "    <tr>\n",
       "      <th>2</th>\n",
       "      <td>2560</td>\n",
       "      <td>male</td>\n",
       "      <td>Maghreb</td>\n",
       "      <td>Barcelona</td>\n",
       "      <td>15</td>\n",
       "      <td>16</td>\n",
       "      <td>1</td>\n",
       "      <td>3-5</td>\n",
       "      <td>3+</td>\n",
       "      <td>Against People</td>\n",
       "      <td>...</td>\n",
       "      <td>135.0</td>\n",
       "      <td>85</td>\n",
       "      <td>1</td>\n",
       "      <td>1994</td>\n",
       "      <td>1</td>\n",
       "      <td>2009</td>\n",
       "      <td>11</td>\n",
       "      <td>2010</td>\n",
       "      <td>3</td>\n",
       "      <td>6</td>\n",
       "    </tr>\n",
       "    <tr>\n",
       "      <th>3</th>\n",
       "      <td>2018</td>\n",
       "      <td>male</td>\n",
       "      <td>Maghreb</td>\n",
       "      <td>Girona</td>\n",
       "      <td>14</td>\n",
       "      <td>15</td>\n",
       "      <td>1</td>\n",
       "      <td>5+</td>\n",
       "      <td>2</td>\n",
       "      <td>Against People</td>\n",
       "      <td>...</td>\n",
       "      <td>176.0</td>\n",
       "      <td>271</td>\n",
       "      <td>1</td>\n",
       "      <td>1994</td>\n",
       "      <td>4</td>\n",
       "      <td>2009</td>\n",
       "      <td>1</td>\n",
       "      <td>2009</td>\n",
       "      <td>6</td>\n",
       "      <td>3</td>\n",
       "    </tr>\n",
       "    <tr>\n",
       "      <th>4</th>\n",
       "      <td>1650</td>\n",
       "      <td>male</td>\n",
       "      <td>Spain</td>\n",
       "      <td>Tarragona</td>\n",
       "      <td>17</td>\n",
       "      <td>20</td>\n",
       "      <td>1</td>\n",
       "      <td>5+</td>\n",
       "      <td>3+</td>\n",
       "      <td>Against People</td>\n",
       "      <td>...</td>\n",
       "      <td>261.0</td>\n",
       "      <td>533</td>\n",
       "      <td>1</td>\n",
       "      <td>1990</td>\n",
       "      <td>9</td>\n",
       "      <td>2008</td>\n",
       "      <td>9</td>\n",
       "      <td>2009</td>\n",
       "      <td>5</td>\n",
       "      <td>11</td>\n",
       "    </tr>\n",
       "  </tbody>\n",
       "</table>\n",
       "<p>5 rows × 29 columns</p>\n",
       "</div>"
      ],
      "text/plain": [
       "     id  V1_sex V4_area_origin V6_province  V8_age  V9_age_at_program_end  \\\n",
       "0   691    male          Spain      Lleida      15                     17   \n",
       "1   956  female          Spain   Barcelona      14                     15   \n",
       "2  2560    male        Maghreb   Barcelona      15                     16   \n",
       "3  2018    male        Maghreb      Girona      14                     15   \n",
       "4  1650    male          Spain   Tarragona      17                     20   \n",
       "\n",
       "   V11_criminal_record V12_n_criminal_record V13_n_crime_cat  \\\n",
       "0                    1                   1-2              3+   \n",
       "1                    1                   1-2               2   \n",
       "2                    1                   3-5              3+   \n",
       "3                    1                    5+               2   \n",
       "4                    1                    5+              3+   \n",
       "\n",
       "  V15_main_crime_cat  ...  V28_days_from_crime_to_program  \\\n",
       "0     Against People  ...                           587.0   \n",
       "1     Against People  ...                           107.0   \n",
       "2     Against People  ...                           135.0   \n",
       "3     Against People  ...                           176.0   \n",
       "4     Against People  ...                           261.0   \n",
       "\n",
       "   V29_program_duration V115_RECID2015_recid  V10_date_of_birth_year  \\\n",
       "0                   132                    1                    1992   \n",
       "1                   258                    1                    1995   \n",
       "2                    85                    1                    1994   \n",
       "3                   271                    1                    1994   \n",
       "4                   533                    1                    1990   \n",
       "\n",
       "   V10_date_of_birth_month V22_main_crime_date_year V22_main_crime_date_month  \\\n",
       "0                       11                     2008                         8   \n",
       "1                        7                     2009                         8   \n",
       "2                        1                     2009                        11   \n",
       "3                        4                     2009                         1   \n",
       "4                        9                     2008                         9   \n",
       "\n",
       "  V30_program_start_year V30_program_start_month  V31_program_end_month  \n",
       "0                   2010                       4                      8  \n",
       "1                   2009                      12                      8  \n",
       "2                   2010                       3                      6  \n",
       "3                   2009                       6                      3  \n",
       "4                   2009                       5                     11  \n",
       "\n",
       "[5 rows x 29 columns]"
      ]
     },
     "execution_count": 125,
     "metadata": {},
     "output_type": "execute_result"
    }
   ],
   "source": [
    "df.head()"
   ]
  },
  {
   "cell_type": "code",
   "execution_count": 126,
   "id": "3ab33fec",
   "metadata": {},
   "outputs": [
    {
     "data": {
      "text/plain": [
       "(4652, 29)"
      ]
     },
     "execution_count": 126,
     "metadata": {},
     "output_type": "execute_result"
    }
   ],
   "source": [
    "df.shape"
   ]
  },
  {
   "cell_type": "code",
   "execution_count": 127,
   "id": "cc6358bd",
   "metadata": {},
   "outputs": [
    {
     "data": {
      "text/plain": [
       "id                                0\n",
       "V1_sex                            0\n",
       "V4_area_origin                    0\n",
       "V6_province                       0\n",
       "V8_age                            0\n",
       "V9_age_at_program_end             0\n",
       "V11_criminal_record               0\n",
       "V12_n_criminal_record             0\n",
       "V13_n_crime_cat                   0\n",
       "V15_main_crime_cat                0\n",
       "V16_violent_crime                 0\n",
       "V17_crime_classification          0\n",
       "V19_committed_crime               0\n",
       "V20_n_juvenile_records            0\n",
       "V21_n_crime                       0\n",
       "V23_territory_of_execution        0\n",
       "V24_finished_program              0\n",
       "V26_finished_measure_grouped      0\n",
       "V27_program_duration_cat          0\n",
       "V28_days_from_crime_to_program    0\n",
       "V29_program_duration              0\n",
       "V115_RECID2015_recid              0\n",
       "V10_date_of_birth_year            0\n",
       "V10_date_of_birth_month           0\n",
       "V22_main_crime_date_year          0\n",
       "V22_main_crime_date_month         0\n",
       "V30_program_start_year            0\n",
       "V30_program_start_month           0\n",
       "V31_program_end_month             0\n",
       "dtype: int64"
      ]
     },
     "execution_count": 127,
     "metadata": {},
     "output_type": "execute_result"
    }
   ],
   "source": [
    "df.isnull().sum()"
   ]
  },
  {
   "cell_type": "markdown",
   "id": "fb35b8e9",
   "metadata": {},
   "source": [
    "## trun categorical data into numeric data"
   ]
  },
  {
   "cell_type": "code",
   "execution_count": 128,
   "id": "d54edaa9",
   "metadata": {},
   "outputs": [],
   "source": [
    "# drop id\n",
    "columus_to_drop = ['id']\n",
    "df = df.drop(columus_to_drop,axis=1)"
   ]
  },
  {
   "cell_type": "code",
   "execution_count": 129,
   "id": "a2d58c51",
   "metadata": {},
   "outputs": [
    {
     "name": "stdout",
     "output_type": "stream",
     "text": [
      "Index(['V8_age', 'V9_age_at_program_end', 'V11_criminal_record',\n",
      "       'V16_violent_crime', 'V17_crime_classification',\n",
      "       'V20_n_juvenile_records', 'V21_n_crime',\n",
      "       'V28_days_from_crime_to_program', 'V29_program_duration',\n",
      "       'V115_RECID2015_recid', 'V10_date_of_birth_year',\n",
      "       'V10_date_of_birth_month', 'V22_main_crime_date_year',\n",
      "       'V22_main_crime_date_month', 'V30_program_start_year',\n",
      "       'V30_program_start_month', 'V31_program_end_month'],\n",
      "      dtype='object')\n",
      "['V6_province', 'V19_committed_crime', 'V23_territory_of_execution', 'V12_n_criminal_record', 'V15_main_crime_cat', 'V24_finished_program', 'V4_area_origin', 'V13_n_crime_cat', 'V27_program_duration_cat', 'V1_sex', 'V26_finished_measure_grouped']\n"
     ]
    }
   ],
   "source": [
    "# detect the categorical data\n",
    "num_cols = df._get_numeric_data().columns\n",
    "print(num_cols)\n",
    "cols = df.columns\n",
    "cat_cols = list(set(cols) - set(num_cols))\n",
    "print(cat_cols)"
   ]
  },
  {
   "cell_type": "code",
   "execution_count": 130,
   "id": "41c6ce9f",
   "metadata": {},
   "outputs": [
    {
     "name": "stdout",
     "output_type": "stream",
     "text": [
      "---V6_province---\n",
      "Barcelona    3257\n",
      "Girona        594\n",
      "Tarragona     449\n",
      "Lleida        352\n",
      "Name: V6_province, dtype: int64\n",
      "---V19_committed_crime---\n",
      "Lesions                                        1011\n",
      "Robatori i robatori amb força en les coses      530\n",
      "Furt                                            527\n",
      "Danys                                           401\n",
      "Contra la llibertat                             354\n",
      "Robatori amb violència                          335\n",
      "Robatori amb violència o intimidació            246\n",
      "Trànsit                                         210\n",
      "Violència familiar                              198\n",
      "Robatori i furt d'ús de vehicle a motor         185\n",
      "Robatori amb intimidació                        135\n",
      "Atemptat contra l'autoritat                     133\n",
      "Contra el patrimoni i l'ordre socioeconòmic      84\n",
      "Contra l'ordre públic i interessos generals      67\n",
      "Contra la llibertat sexual                       56\n",
      "Contra l'honor i la intimitat                    36\n",
      "Contra la salud pública                          35\n",
      "Contra l'administració de justícia               34\n",
      "Contra la integritat moral                       27\n",
      "Contra l'administració pública                   17\n",
      "Homicidi i assassinat                            14\n",
      "Falsedats                                        10\n",
      "Incendi                                           7\n",
      "Name: V19_committed_crime, dtype: int64\n",
      "---V23_territory_of_execution---\n",
      "Barcelona    3258\n",
      "Girona        604\n",
      "Tarragona     430\n",
      "Lleida        360\n",
      "Name: V23_territory_of_execution, dtype: int64\n",
      "---V12_n_criminal_record---\n",
      "0      2412\n",
      "1-2    1360\n",
      "3-5     572\n",
      "5+      308\n",
      "Name: V12_n_criminal_record, dtype: int64\n",
      "---V15_main_crime_cat---\n",
      "Against Property    1958\n",
      "Against People      1766\n",
      "Other                928\n",
      "Name: V15_main_crime_cat, dtype: int64\n",
      "---V24_finished_program---\n",
      "Assessorament tècnic menors                  1669\n",
      "Mediació i reparació menors                  1467\n",
      "Llibertat vigilada                            787\n",
      "Prestacions en benefici de la comunitat       278\n",
      "Internament en centre                         178\n",
      "Realització de tasques socioeducatives        152\n",
      "Permanència de cap de setmana en domicili      81\n",
      "Permanència de cap de setmana en centre        11\n",
      "Tractament terapèutic ambulatori                9\n",
      "Internament centre terapèutic                   5\n",
      "Seguiment internament centre terapèutic         4\n",
      "Assistència a centre de dia                     4\n",
      "Règim d'internament en llibertat vigilada       4\n",
      "Convivència amb altres persones                 2\n",
      "Assistència voluntària en medi obert            1\n",
      "Name: V24_finished_program, dtype: int64\n",
      "---V4_area_origin---\n",
      "Spain            2972\n",
      "Latin America     727\n",
      "Maghreb           610\n",
      "Europe            244\n",
      "Other              99\n",
      "Name: V4_area_origin, dtype: int64\n",
      "---V13_n_crime_cat---\n",
      "1     3259\n",
      "2      979\n",
      "3+     414\n",
      "Name: V13_n_crime_cat, dtype: int64\n",
      "---V27_program_duration_cat---\n",
      "<6 months            3656\n",
      "6 months < 1 year     628\n",
      ">1 year               368\n",
      "Name: V27_program_duration_cat, dtype: int64\n",
      "---V1_sex---\n",
      "male      3822\n",
      "female     830\n",
      "Name: V1_sex, dtype: int64\n",
      "---V26_finished_measure_grouped---\n",
      "ATM                  1669\n",
      "MRM                  1467\n",
      "Probation             787\n",
      "Community Service     278\n",
      "Other                 257\n",
      "Internment            194\n",
      "Name: V26_finished_measure_grouped, dtype: int64\n"
     ]
    }
   ],
   "source": [
    "# check the types in each categorical data\n",
    "for each_col in cat_cols:\n",
    "    print('---{}---'.format(each_col))\n",
    "    print(df[each_col].value_counts())"
   ]
  },
  {
   "cell_type": "code",
   "execution_count": 131,
   "id": "33af3ac9",
   "metadata": {},
   "outputs": [
    {
     "data": {
      "text/html": [
       "<div>\n",
       "<style scoped>\n",
       "    .dataframe tbody tr th:only-of-type {\n",
       "        vertical-align: middle;\n",
       "    }\n",
       "\n",
       "    .dataframe tbody tr th {\n",
       "        vertical-align: top;\n",
       "    }\n",
       "\n",
       "    .dataframe thead th {\n",
       "        text-align: right;\n",
       "    }\n",
       "</style>\n",
       "<table border=\"1\" class=\"dataframe\">\n",
       "  <thead>\n",
       "    <tr style=\"text-align: right;\">\n",
       "      <th></th>\n",
       "      <th>V8_age</th>\n",
       "      <th>V9_age_at_program_end</th>\n",
       "      <th>V11_criminal_record</th>\n",
       "      <th>V16_violent_crime</th>\n",
       "      <th>V17_crime_classification</th>\n",
       "      <th>V20_n_juvenile_records</th>\n",
       "      <th>V21_n_crime</th>\n",
       "      <th>V28_days_from_crime_to_program</th>\n",
       "      <th>V29_program_duration</th>\n",
       "      <th>V115_RECID2015_recid</th>\n",
       "      <th>...</th>\n",
       "      <th>V27_program_duration_cat_&lt;6 months</th>\n",
       "      <th>V27_program_duration_cat_&gt;1 year</th>\n",
       "      <th>V1_sex_female</th>\n",
       "      <th>V1_sex_male</th>\n",
       "      <th>V26_finished_measure_grouped_ATM</th>\n",
       "      <th>V26_finished_measure_grouped_Community Service</th>\n",
       "      <th>V26_finished_measure_grouped_Internment</th>\n",
       "      <th>V26_finished_measure_grouped_MRM</th>\n",
       "      <th>V26_finished_measure_grouped_Other</th>\n",
       "      <th>V26_finished_measure_grouped_Probation</th>\n",
       "    </tr>\n",
       "  </thead>\n",
       "  <tbody>\n",
       "    <tr>\n",
       "      <th>0</th>\n",
       "      <td>15</td>\n",
       "      <td>17</td>\n",
       "      <td>1</td>\n",
       "      <td>1</td>\n",
       "      <td>1</td>\n",
       "      <td>1.0</td>\n",
       "      <td>4</td>\n",
       "      <td>587.0</td>\n",
       "      <td>132</td>\n",
       "      <td>1</td>\n",
       "      <td>...</td>\n",
       "      <td>1</td>\n",
       "      <td>0</td>\n",
       "      <td>0</td>\n",
       "      <td>1</td>\n",
       "      <td>0</td>\n",
       "      <td>0</td>\n",
       "      <td>1</td>\n",
       "      <td>0</td>\n",
       "      <td>0</td>\n",
       "      <td>0</td>\n",
       "    </tr>\n",
       "    <tr>\n",
       "      <th>1</th>\n",
       "      <td>14</td>\n",
       "      <td>15</td>\n",
       "      <td>1</td>\n",
       "      <td>1</td>\n",
       "      <td>1</td>\n",
       "      <td>1.0</td>\n",
       "      <td>2</td>\n",
       "      <td>107.0</td>\n",
       "      <td>258</td>\n",
       "      <td>1</td>\n",
       "      <td>...</td>\n",
       "      <td>0</td>\n",
       "      <td>0</td>\n",
       "      <td>1</td>\n",
       "      <td>0</td>\n",
       "      <td>0</td>\n",
       "      <td>0</td>\n",
       "      <td>1</td>\n",
       "      <td>0</td>\n",
       "      <td>0</td>\n",
       "      <td>0</td>\n",
       "    </tr>\n",
       "    <tr>\n",
       "      <th>2</th>\n",
       "      <td>15</td>\n",
       "      <td>16</td>\n",
       "      <td>1</td>\n",
       "      <td>1</td>\n",
       "      <td>1</td>\n",
       "      <td>4.0</td>\n",
       "      <td>3</td>\n",
       "      <td>135.0</td>\n",
       "      <td>85</td>\n",
       "      <td>1</td>\n",
       "      <td>...</td>\n",
       "      <td>1</td>\n",
       "      <td>0</td>\n",
       "      <td>0</td>\n",
       "      <td>1</td>\n",
       "      <td>0</td>\n",
       "      <td>0</td>\n",
       "      <td>1</td>\n",
       "      <td>0</td>\n",
       "      <td>0</td>\n",
       "      <td>0</td>\n",
       "    </tr>\n",
       "    <tr>\n",
       "      <th>3</th>\n",
       "      <td>14</td>\n",
       "      <td>15</td>\n",
       "      <td>1</td>\n",
       "      <td>1</td>\n",
       "      <td>1</td>\n",
       "      <td>7.0</td>\n",
       "      <td>2</td>\n",
       "      <td>176.0</td>\n",
       "      <td>271</td>\n",
       "      <td>1</td>\n",
       "      <td>...</td>\n",
       "      <td>0</td>\n",
       "      <td>0</td>\n",
       "      <td>0</td>\n",
       "      <td>1</td>\n",
       "      <td>0</td>\n",
       "      <td>0</td>\n",
       "      <td>1</td>\n",
       "      <td>0</td>\n",
       "      <td>0</td>\n",
       "      <td>0</td>\n",
       "    </tr>\n",
       "    <tr>\n",
       "      <th>4</th>\n",
       "      <td>17</td>\n",
       "      <td>20</td>\n",
       "      <td>1</td>\n",
       "      <td>1</td>\n",
       "      <td>1</td>\n",
       "      <td>6.0</td>\n",
       "      <td>3</td>\n",
       "      <td>261.0</td>\n",
       "      <td>533</td>\n",
       "      <td>1</td>\n",
       "      <td>...</td>\n",
       "      <td>0</td>\n",
       "      <td>1</td>\n",
       "      <td>0</td>\n",
       "      <td>1</td>\n",
       "      <td>0</td>\n",
       "      <td>0</td>\n",
       "      <td>1</td>\n",
       "      <td>0</td>\n",
       "      <td>0</td>\n",
       "      <td>0</td>\n",
       "    </tr>\n",
       "  </tbody>\n",
       "</table>\n",
       "<p>5 rows × 89 columns</p>\n",
       "</div>"
      ],
      "text/plain": [
       "   V8_age  V9_age_at_program_end  V11_criminal_record  V16_violent_crime  \\\n",
       "0      15                     17                    1                  1   \n",
       "1      14                     15                    1                  1   \n",
       "2      15                     16                    1                  1   \n",
       "3      14                     15                    1                  1   \n",
       "4      17                     20                    1                  1   \n",
       "\n",
       "   V17_crime_classification  V20_n_juvenile_records  V21_n_crime  \\\n",
       "0                         1                     1.0            4   \n",
       "1                         1                     1.0            2   \n",
       "2                         1                     4.0            3   \n",
       "3                         1                     7.0            2   \n",
       "4                         1                     6.0            3   \n",
       "\n",
       "   V28_days_from_crime_to_program  V29_program_duration  V115_RECID2015_recid  \\\n",
       "0                           587.0                   132                     1   \n",
       "1                           107.0                   258                     1   \n",
       "2                           135.0                    85                     1   \n",
       "3                           176.0                   271                     1   \n",
       "4                           261.0                   533                     1   \n",
       "\n",
       "   ...  V27_program_duration_cat_<6 months  V27_program_duration_cat_>1 year  \\\n",
       "0  ...                                   1                                 0   \n",
       "1  ...                                   0                                 0   \n",
       "2  ...                                   1                                 0   \n",
       "3  ...                                   0                                 0   \n",
       "4  ...                                   0                                 1   \n",
       "\n",
       "   V1_sex_female  V1_sex_male  V26_finished_measure_grouped_ATM  \\\n",
       "0              0            1                                 0   \n",
       "1              1            0                                 0   \n",
       "2              0            1                                 0   \n",
       "3              0            1                                 0   \n",
       "4              0            1                                 0   \n",
       "\n",
       "   V26_finished_measure_grouped_Community Service  \\\n",
       "0                                               0   \n",
       "1                                               0   \n",
       "2                                               0   \n",
       "3                                               0   \n",
       "4                                               0   \n",
       "\n",
       "   V26_finished_measure_grouped_Internment  V26_finished_measure_grouped_MRM  \\\n",
       "0                                        1                                 0   \n",
       "1                                        1                                 0   \n",
       "2                                        1                                 0   \n",
       "3                                        1                                 0   \n",
       "4                                        1                                 0   \n",
       "\n",
       "   V26_finished_measure_grouped_Other  V26_finished_measure_grouped_Probation  \n",
       "0                                   0                                       0  \n",
       "1                                   0                                       0  \n",
       "2                                   0                                       0  \n",
       "3                                   0                                       0  \n",
       "4                                   0                                       0  \n",
       "\n",
       "[5 rows x 89 columns]"
      ]
     },
     "execution_count": 131,
     "metadata": {},
     "output_type": "execute_result"
    }
   ],
   "source": [
    "df = pd.get_dummies(df,columns=cat_cols)\n",
    "df.head()"
   ]
  },
  {
   "cell_type": "code",
   "execution_count": 185,
   "id": "9f6a12b8",
   "metadata": {},
   "outputs": [],
   "source": [
    "# somehow not allowed for xgboost\n",
    "col_names = df.columns\n",
    "for each in col_names:\n",
    "    if '>' in each or '<' in each:\n",
    "        print(each)"
   ]
  },
  {
   "cell_type": "code",
   "execution_count": 133,
   "id": "3ae593a5",
   "metadata": {},
   "outputs": [],
   "source": [
    "df['V27_program_duration_cat_between6monthto1year'] =df['V27_program_duration_cat_6 months < 1 year']\n",
    "df['V27_program_duration_cat_lessthan6month'] =df['V27_program_duration_cat_<6 months']\n",
    "df['V27_program_duration_cat_morethan1year'] =df['V27_program_duration_cat_>1 year']\n",
    "df = df.drop(['V27_program_duration_cat_6 months < 1 year','V27_program_duration_cat_<6 months','V27_program_duration_cat_>1 year'],axis=1)"
   ]
  },
  {
   "cell_type": "code",
   "execution_count": 135,
   "id": "cef9bd72",
   "metadata": {},
   "outputs": [],
   "source": [
    "# correlated with other columns\n",
    "columns_to_drop = ['V6_province_Lleida','V19_committed_crime_Violència familiar',\n",
    "                  'V23_territory_of_execution_Tarragona',\n",
    "                  'V12_n_criminal_record_5+',\n",
    "                  'V15_main_crime_cat_Other',\n",
    "                  'V24_finished_program_Tractament terapèutic ambulatori',\n",
    "                  'V4_area_origin_Other',\n",
    "                  'V13_n_crime_cat_3+',\n",
    "                  'V1_sex_male','V26_finished_measure_grouped_Probation',\n",
    "                  'V27_program_duration_cat_morethan1year']"
   ]
  },
  {
   "cell_type": "code",
   "execution_count": 136,
   "id": "2bc8238f",
   "metadata": {},
   "outputs": [],
   "source": [
    "df = df.drop(columns_to_drop,axis=1)"
   ]
  },
  {
   "cell_type": "code",
   "execution_count": 186,
   "id": "24277281",
   "metadata": {},
   "outputs": [],
   "source": [
    "\n",
    "# save new file\n",
    "df.to_csv('../catalan_data_course/catalan-juvenile-recidivism-subset-numeric.csv')  "
   ]
  },
  {
   "cell_type": "markdown",
   "id": "786fd78f",
   "metadata": {},
   "source": [
    "### tree-base models"
   ]
  },
  {
   "cell_type": "code",
   "execution_count": 169,
   "id": "42cfb1ff",
   "metadata": {},
   "outputs": [],
   "source": [
    "\n",
    "\n",
    "X = df.drop(['V115_RECID2015_recid'], axis=1)\n",
    "\n",
    "y = df['V115_RECID2015_recid']\n",
    "A_attributes = ['V1_sex_female']\n",
    "y_with_A = df[['V115_RECID2015_recid','V1_sex_female']]"
   ]
  },
  {
   "cell_type": "code",
   "execution_count": 173,
   "id": "7df196b1",
   "metadata": {},
   "outputs": [],
   "source": [
    "from sklearn.model_selection import train_test_split\n",
    "\n",
    "X_train, X_test, y_train_with_A, y_test_with_A = train_test_split(X, y_with_A, test_size = 0.33, random_state = 42)"
   ]
  },
  {
   "cell_type": "code",
   "execution_count": 175,
   "id": "e53329cc",
   "metadata": {},
   "outputs": [],
   "source": [
    "y_train = y_train_with_A.drop(A_attributes,axis=1)\n",
    "y_test = y_test_with_A.drop(A_attributes,axis=1)"
   ]
  },
  {
   "cell_type": "code",
   "execution_count": 176,
   "id": "7a3076b5",
   "metadata": {},
   "outputs": [
    {
     "name": "stderr",
     "output_type": "stream",
     "text": [
      "C:\\Users\\12632\\AppData\\Local\\Temp\\ipykernel_2208\\3568236683.py:3: DataConversionWarning: A column-vector y was passed when a 1d array was expected. Please change the shape of y to (n_samples,), for example using ravel().\n",
      "  rfc.fit(X_train, y_train)\n"
     ]
    },
    {
     "name": "stdout",
     "output_type": "stream",
     "text": [
      "Model accuracy score : 0.7246\n"
     ]
    }
   ],
   "source": [
    "from sklearn.ensemble import RandomForestClassifier\n",
    "rfc = RandomForestClassifier(random_state=0,n_estimators=100)\n",
    "rfc.fit(X_train, y_train)\n",
    "y_pred = rfc.predict(X_test)\n",
    "\n",
    "\n",
    "\n",
    "from sklearn.metrics import accuracy_score\n",
    "print('Model accuracy score : {0:0.4f}'. format(accuracy_score(y_test, y_pred)))"
   ]
  },
  {
   "cell_type": "code",
   "execution_count": 182,
   "id": "984224dc",
   "metadata": {},
   "outputs": [
    {
     "name": "stdout",
     "output_type": "stream",
     "text": [
      "266\n",
      "1270\n",
      "87\n",
      "237\n",
      "209\n"
     ]
    }
   ],
   "source": [
    "male_X_test = X_test[X_test['V1_sex_female']==0]\n",
    "male_y_test_with_A = y_test_with_A[y_test_with_A['V1_sex_female']==0]\n",
    "\n",
    "female_X_test = X_test[X_test['V1_sex_female']==1]\n",
    "female_y_test_with_A = y_test_with_A[y_test_with_A['V1_sex_female']==1]\n",
    "print(len(female_X_test))\n",
    "print(len(male_X_test))\n",
    "\n",
    "Europe_X_test = X_test[X_test['V4_area_origin_Europe']==1]\n",
    "Latin_America_X_test = X_test[X_test['V4_area_origin_Latin America']==1]\n",
    "Maghreb_X_test = X_test[X_test['V4_area_origin_Maghreb']==1]\n",
    "print(len(Europe_X_test))\n",
    "print(len(Latin_America_X_test))\n",
    "print(len(Maghreb_X_test))"
   ]
  },
  {
   "cell_type": "markdown",
   "id": "bb841eb9",
   "metadata": {},
   "source": [
    "performance on men and women"
   ]
  },
  {
   "cell_type": "code",
   "execution_count": 183,
   "id": "09175c15",
   "metadata": {},
   "outputs": [
    {
     "name": "stdout",
     "output_type": "stream",
     "text": [
      "Model accuracy score : 0.7039\n"
     ]
    }
   ],
   "source": [
    "print('Model accuracy score : {0:0.4f}'. format(accuracy_score(male_y_test_with_A['V115_RECID2015_recid'], rfc.predict(male_X_test))))"
   ]
  },
  {
   "cell_type": "code",
   "execution_count": 184,
   "id": "5b9c35c0",
   "metadata": {},
   "outputs": [
    {
     "name": "stdout",
     "output_type": "stream",
     "text": [
      "Model accuracy score : 0.8233\n"
     ]
    }
   ],
   "source": [
    "print('Model accuracy score : {0:0.4f}'. format(accuracy_score(female_y_test_with_A['V115_RECID2015_recid'], rfc.predict(female_X_test))))"
   ]
  },
  {
   "cell_type": "markdown",
   "id": "4c59ca6a",
   "metadata": {},
   "source": [
    "### xgboost"
   ]
  },
  {
   "cell_type": "code",
   "execution_count": 112,
   "id": "97106d01",
   "metadata": {},
   "outputs": [
    {
     "data": {
      "text/plain": [
       "Index(['V8_age', 'V9_age_at_program_end', 'V11_criminal_record',\n",
       "       'V16_violent_crime', 'V17_crime_classification',\n",
       "       'V20_n_juvenile_records', 'V21_n_crime',\n",
       "       'V28_days_from_crime_to_program', 'V29_program_duration',\n",
       "       'V10_date_of_birth_year', 'V10_date_of_birth_month',\n",
       "       'V22_main_crime_date_year', 'V22_main_crime_date_month',\n",
       "       'V30_program_start_year', 'V30_program_start_month',\n",
       "       'V31_program_end_month', 'V6_province_Barcelona', 'V6_province_Girona',\n",
       "       'V6_province_Tarragona',\n",
       "       'V19_committed_crime_Atemptat contra l'autoritat',\n",
       "       'V19_committed_crime_Contra el patrimoni i l'ordre socioeconòmic',\n",
       "       'V19_committed_crime_Contra l'administració de justícia',\n",
       "       'V19_committed_crime_Contra l'administració pública',\n",
       "       'V19_committed_crime_Contra l'honor i la intimitat',\n",
       "       'V19_committed_crime_Contra l'ordre públic i interessos generals',\n",
       "       'V19_committed_crime_Contra la integritat moral',\n",
       "       'V19_committed_crime_Contra la llibertat',\n",
       "       'V19_committed_crime_Contra la llibertat sexual',\n",
       "       'V19_committed_crime_Contra la salud pública',\n",
       "       'V19_committed_crime_Danys', 'V19_committed_crime_Falsedats',\n",
       "       'V19_committed_crime_Furt', 'V19_committed_crime_Homicidi i assassinat',\n",
       "       'V19_committed_crime_Incendi', 'V19_committed_crime_Lesions',\n",
       "       'V19_committed_crime_Robatori amb intimidació',\n",
       "       'V19_committed_crime_Robatori amb violència',\n",
       "       'V19_committed_crime_Robatori amb violència o intimidació',\n",
       "       'V19_committed_crime_Robatori i furt d'ús de vehicle a motor',\n",
       "       'V19_committed_crime_Robatori i robatori amb força en les coses',\n",
       "       'V19_committed_crime_Trànsit', 'V23_territory_of_execution_Barcelona',\n",
       "       'V23_territory_of_execution_Girona',\n",
       "       'V23_territory_of_execution_Lleida', 'V12_n_criminal_record_0',\n",
       "       'V12_n_criminal_record_1-2', 'V12_n_criminal_record_3-5',\n",
       "       'V15_main_crime_cat_Against People',\n",
       "       'V15_main_crime_cat_Against Property',\n",
       "       'V24_finished_program_Assessorament tècnic menors',\n",
       "       'V24_finished_program_Assistència a centre de dia',\n",
       "       'V24_finished_program_Assistència voluntària en medi obert',\n",
       "       'V24_finished_program_Convivència amb altres persones',\n",
       "       'V24_finished_program_Internament centre terapèutic',\n",
       "       'V24_finished_program_Internament en centre',\n",
       "       'V24_finished_program_Llibertat vigilada',\n",
       "       'V24_finished_program_Mediació i reparació menors',\n",
       "       'V24_finished_program_Permanència de cap de setmana en centre',\n",
       "       'V24_finished_program_Permanència de cap de setmana en domicili',\n",
       "       'V24_finished_program_Prestacions en benefici de la comunitat',\n",
       "       'V24_finished_program_Realització de tasques socioeducatives',\n",
       "       'V24_finished_program_Règim d'internament en llibertat vigilada',\n",
       "       'V24_finished_program_Seguiment internament centre terapèutic',\n",
       "       'V4_area_origin_Europe', 'V4_area_origin_Latin America',\n",
       "       'V4_area_origin_Maghreb', 'V4_area_origin_Other', 'V13_n_crime_cat_1',\n",
       "       'V13_n_crime_cat_2', 'V1_sex_female',\n",
       "       'V26_finished_measure_grouped_ATM',\n",
       "       'V26_finished_measure_grouped_Community Service',\n",
       "       'V26_finished_measure_grouped_Internment',\n",
       "       'V26_finished_measure_grouped_MRM',\n",
       "       'V26_finished_measure_grouped_Other',\n",
       "       'V27_program_duration_cat_between6monthto1year',\n",
       "       'V27_program_duration_cat_lessthan6month'],\n",
       "      dtype='object')"
      ]
     },
     "execution_count": 112,
     "metadata": {},
     "output_type": "execute_result"
    }
   ],
   "source": [
    "X_train.columns"
   ]
  },
  {
   "cell_type": "code",
   "execution_count": 113,
   "id": "2814c3a9",
   "metadata": {},
   "outputs": [
    {
     "name": "stderr",
     "output_type": "stream",
     "text": [
      "C:\\Users\\12632\\.conda\\envs\\eegeyenet_benchmark\\lib\\site-packages\\xgboost\\sklearn.py:1224: UserWarning: The use of label encoder in XGBClassifier is deprecated and will be removed in a future release. To remove this warning, do the following: 1) Pass option use_label_encoder=False when constructing XGBClassifier object; and 2) Encode your labels (y) as integers starting with 0, i.e. 0, 1, 2, ..., [num_class - 1].\n",
      "  warnings.warn(label_encoder_deprecation_msg, UserWarning)\n",
      "C:\\Users\\12632\\.conda\\envs\\eegeyenet_benchmark\\lib\\site-packages\\xgboost\\data.py:250: FutureWarning: pandas.Int64Index is deprecated and will be removed from pandas in a future version. Use pandas.Index with the appropriate dtype instead.\n",
      "  elif isinstance(data.columns, (pd.Int64Index, pd.RangeIndex)):\n"
     ]
    },
    {
     "name": "stdout",
     "output_type": "stream",
     "text": [
      "[14:15:13] WARNING: ..\\src\\learner.cc:1115: Starting in XGBoost 1.3.0, the default evaluation metric used with the objective 'binary:logistic' was changed from 'error' to 'logloss'. Explicitly set eval_metric if you'd like to restore the old behavior.\n"
     ]
    },
    {
     "data": {
      "text/plain": [
       "XGBClassifier(base_score=0.5, booster='gbtree', colsample_bylevel=1,\n",
       "              colsample_bynode=1, colsample_bytree=1, enable_categorical=False,\n",
       "              gamma=0, gpu_id=-1, importance_type=None,\n",
       "              interaction_constraints='', learning_rate=0.300000012,\n",
       "              max_delta_step=0, max_depth=6, min_child_weight=1, missing=nan,\n",
       "              monotone_constraints='()', n_estimators=100, n_jobs=8,\n",
       "              num_parallel_tree=1, predictor='auto', random_state=0,\n",
       "              reg_alpha=0, reg_lambda=1, scale_pos_weight=1, subsample=1,\n",
       "              tree_method='exact', validate_parameters=1, verbosity=None)"
      ]
     },
     "execution_count": 113,
     "metadata": {},
     "output_type": "execute_result"
    }
   ],
   "source": [
    "\n",
    "from xgboost import XGBClassifier\n",
    "model = XGBClassifier()\n",
    "model.fit(X_train, y_train)"
   ]
  },
  {
   "cell_type": "code",
   "execution_count": 114,
   "id": "322c563f",
   "metadata": {},
   "outputs": [],
   "source": [
    "y_pred = model.predict(X_test)\n",
    "predictions = [round(value) for value in y_pred]"
   ]
  },
  {
   "cell_type": "code",
   "execution_count": 115,
   "id": "d6c3b5b0",
   "metadata": {},
   "outputs": [
    {
     "name": "stdout",
     "output_type": "stream",
     "text": [
      "Accuracy: 70.12%\n"
     ]
    }
   ],
   "source": [
    "# evaluate predictions\n",
    "accuracy = accuracy_score(y_test, predictions)\n",
    "print(\"Accuracy: %.2f%%\" % (accuracy * 100.0))"
   ]
  },
  {
   "cell_type": "code",
   "execution_count": 102,
   "id": "bba8dd44",
   "metadata": {},
   "outputs": [
    {
     "data": {
      "text/plain": [
       "4072    0\n",
       "2817    0\n",
       "33      0\n",
       "2293    0\n",
       "4125    1\n",
       "       ..\n",
       "1490    0\n",
       "2889    0\n",
       "729     0\n",
       "2387    0\n",
       "2178    1\n",
       "Name: V1_sex_female, Length: 1536, dtype: uint8"
      ]
     },
     "execution_count": 102,
     "metadata": {},
     "output_type": "execute_result"
    }
   ],
   "source": [
    "X_test['V1_sex_female']"
   ]
  },
  {
   "cell_type": "code",
   "execution_count": null,
   "id": "30981c79",
   "metadata": {},
   "outputs": [],
   "source": []
  }
 ],
 "metadata": {
  "kernelspec": {
   "display_name": "Python 3 (ipykernel)",
   "language": "python",
   "name": "python3"
  },
  "language_info": {
   "codemirror_mode": {
    "name": "ipython",
    "version": 3
   },
   "file_extension": ".py",
   "mimetype": "text/x-python",
   "name": "python",
   "nbconvert_exporter": "python",
   "pygments_lexer": "ipython3",
   "version": "3.8.5"
  }
 },
 "nbformat": 4,
 "nbformat_minor": 5
}
