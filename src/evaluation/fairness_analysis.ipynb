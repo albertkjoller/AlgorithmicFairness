{
 "cells": [
  {
   "attachments": {},
   "cell_type": "markdown",
   "metadata": {},
   "source": [
    "# Fairness Analysis"
   ]
  },
  {
   "cell_type": "code",
   "execution_count": 1,
   "metadata": {},
   "outputs": [],
   "source": [
    "import torch\n",
    "\n",
    "import numpy as np\n",
    "import pandas as pd\n",
    "import tqdm\n",
    "\n",
    "from sklearn.metrics import roc_curve\n",
    "\n",
    "import matplotlib.pyplot as plt\n",
    "\n",
    "from src.data.dataloader import CatalanJuvenileJustice\n",
    "from src.models.model import FullyConnected, AutoEncoder"
   ]
  },
  {
   "cell_type": "code",
   "execution_count": 2,
   "metadata": {},
   "outputs": [],
   "source": [
    "def set_seed(seed: int):\n",
    "    torch.manual_seed(seed)\n",
    "\n",
    "plt.style.use('ggplot')"
   ]
  },
  {
   "attachments": {},
   "cell_type": "markdown",
   "metadata": {},
   "source": [
    "### Biased model"
   ]
  },
  {
   "cell_type": "markdown",
   "metadata": {},
   "source": []
  },
  {
   "cell_type": "code",
   "execution_count": 3,
   "metadata": {},
   "outputs": [],
   "source": [
    "DATA_DIR    = \"../../data\" \n",
    "MODEL_DIR   = \"../../models\"\n",
    "\n",
    "device = torch.device('cuda') if torch.cuda.is_available() else torch.device('cpu')"
   ]
  },
  {
   "cell_type": "code",
   "execution_count": 5,
   "metadata": {},
   "outputs": [
    {
     "data": {
      "text/plain": [
       "dict_keys(['experiment_name', 'seed', 'model', 'input_parameters', 'training_parameters', 'data', 'best_epoch', 'state_dict'])"
      ]
     },
     "execution_count": 5,
     "metadata": {},
     "output_type": "execute_result"
    }
   ],
   "source": [
    "experiment_name = 'temporary-AutoEncoder-sensitive_data'\n",
    "\n",
    "experiment = torch.load(f\"{MODEL_DIR}/{experiment_name}/best.ckpt\")\n",
    "experiment.keys()"
   ]
  },
  {
   "cell_type": "code",
   "execution_count": 6,
   "metadata": {},
   "outputs": [],
   "source": [
    "set_seed(experiment['seed'])\n",
    "\n",
    "dataset = CatalanJuvenileJustice(\n",
    "    data_path=f\"{DATA_DIR}/processed/{experiment['data']['filename']}\"\n",
    ")\n",
    "\n",
    "_, _, test_loader = dataset.get_loaders(\n",
    "    batch_size=experiment['training_parameters']['batch_size'], \n",
    "    shuffle=True, \n",
    "    num_workers=1, \n",
    "    test_size=experiment['data']['split']['test_proportion'], \n",
    "    val_size=experiment['data']['split']['val_proportion'], \n",
    "    split_type=experiment['data']['split']['split_type'],\n",
    ")"
   ]
  },
  {
   "cell_type": "code",
   "execution_count": 7,
   "metadata": {},
   "outputs": [],
   "source": [
    "def load_model(experiment: dict):\n",
    "    input_parameters = experiment['model']['input_parameters']\n",
    "\n",
    "    if experiment['model']['name'] == 'AutoEncoder':\n",
    "        model = AutoEncoder(channels_in=input_parameters[0], z_dim=input_parameters[1], channels_out=input_parameters[2])\n",
    "        model.encoder = experiment['model']['net'][0]\n",
    "        model.classifier = experiment['model']['net'][1]\n",
    "        model.load_state_dict(experiment['state_dict'])\n",
    "        return model\n",
    "    \n",
    "    elif experiment['model']['name'] == 'FullyConnected':\n",
    "        model = FullyConnected(channels_in=input_parameters[0], channels_out=input_parameters[1])\n",
    "        model.net = experiment['model']['net']\n",
    "        model.load_state_dict(experiment['state_dict'])\n",
    "        return model\n",
    "    \n",
    "    else:\n",
    "        raise NotImplementedError(\"Yet to be implemented...\")"
   ]
  },
  {
   "cell_type": "code",
   "execution_count": 10,
   "metadata": {},
   "outputs": [
    {
     "data": {
      "text/plain": [
       "AutoEncoder(\n",
       "  (encoder): Sequential(\n",
       "    (0): Linear(in_features=84, out_features=128, bias=True)\n",
       "    (1): ReLU()\n",
       "    (2): Linear(in_features=128, out_features=64, bias=True)\n",
       "    (3): ReLU()\n",
       "    (4): Linear(in_features=64, out_features=32, bias=True)\n",
       "  )\n",
       "  (classifier): Sequential(\n",
       "    (0): Linear(in_features=32, out_features=32, bias=True)\n",
       "    (1): ReLU()\n",
       "    (2): Linear(in_features=32, out_features=32, bias=True)\n",
       "    (3): Linear(in_features=32, out_features=1, bias=True)\n",
       "    (4): Sigmoid()\n",
       "  )\n",
       ")"
      ]
     },
     "execution_count": 10,
     "metadata": {},
     "output_type": "execute_result"
    }
   ],
   "source": [
    "# Load model in evaluation mode\n",
    "model = load_model(experiment=experiment)\n",
    "model.eval()"
   ]
  },
  {
   "cell_type": "code",
   "execution_count": 11,
   "metadata": {},
   "outputs": [
    {
     "name": "stderr",
     "output_type": "stream",
     "text": [
      "  0%|          | 0/30 [00:07<?, ?it/s]\n"
     ]
    },
    {
     "ename": "TypeError",
     "evalue": "'>=' not supported between instances of 'dict' and 'float'",
     "output_type": "error",
     "traceback": [
      "\u001b[1;31m---------------------------------------------------------------------------\u001b[0m",
      "\u001b[1;31mTypeError\u001b[0m                                 Traceback (most recent call last)",
      "Cell \u001b[1;32mIn[11], line 19\u001b[0m\n\u001b[0;32m     17\u001b[0m \u001b[39m# Store predictions\u001b[39;00m\n\u001b[0;32m     18\u001b[0m pred_probs\u001b[39m.\u001b[39mextend(y_pred)\n\u001b[1;32m---> 19\u001b[0m preds\u001b[39m.\u001b[39mextend(y_pred \u001b[39m>\u001b[39;49m\u001b[39m=\u001b[39;49m \u001b[39m0.5\u001b[39;49m)\n\u001b[0;32m     21\u001b[0m \u001b[39m# Store ground truth labels\u001b[39;00m\n\u001b[0;32m     22\u001b[0m gt_labels\u001b[39m.\u001b[39mextend(labels)\n",
      "\u001b[1;31mTypeError\u001b[0m: '>=' not supported between instances of 'dict' and 'float'"
     ]
    }
   ],
   "source": [
    "mu      = experiment['data']['standardization']['mu']\n",
    "sigma   = experiment['data']['standardization']['sigma']\n",
    "\n",
    "sensitive_data = []\n",
    "preds, pred_probs, gt_labels, equals = [], [], [], []\n",
    "latent_representations = []\n",
    "\n",
    "with torch.no_grad():\n",
    "    for batch in tqdm.tqdm(iter(test_loader)):\n",
    "        inputs, labels = batch['data'].to(device), batch['label'].to(device)\n",
    "        sensitive_data.extend(batch['sensitive_data'])\n",
    "\n",
    "        # Standardize input\n",
    "        inputs = (inputs - mu) / sigma\n",
    "        # Get predictions\n",
    "        outputs = model(inputs)\n",
    "        y_pred = outputs['pred']\n",
    "        latent_representations.extend(outputs['z'])\n",
    "\n",
    "        # Store predictions\n",
    "        pred_probs.extend(y_pred)\n",
    "        preds.extend(y_pred >= 0.5)\n",
    "\n",
    "        # Store ground truth labels\n",
    "        gt_labels.extend(labels)\n",
    "\n",
    "preds, pred_probs, gt_labels = torch.stack(preds), torch.stack(pred_probs), torch.stack(gt_labels)"
   ]
  },
  {
   "cell_type": "code",
   "execution_count": 8,
   "metadata": {},
   "outputs": [],
   "source": [
    "df = pd.DataFrame(torch.stack(sensitive_data), columns=test_loader.dataset.dataset.sensitive_attributes)\n",
    "df = df.rename(columns={'V4_area_origin_Latin America': 'V4_area_origin_LatinAmerica'})\n",
    "\n",
    "df['labels'] = gt_labels.cpu()\n",
    "df['pred_probs'] = pred_probs.cpu()\n",
    "df['preds'] = preds.cpu().type(torch.int)"
   ]
  },
  {
   "cell_type": "code",
   "execution_count": 9,
   "metadata": {},
   "outputs": [
    {
     "name": "stdout",
     "output_type": "stream",
     "text": [
      "Mean predictor: 0.6537634408602151\n",
      "Trained NN: \t0.710752688172043\n"
     ]
    }
   ],
   "source": [
    "print(f\"Mean predictor: {1 - df['labels'].mean()}\")\n",
    "print(f\"Trained NN: \\t{(df['labels'] == df['preds']).mean()}\")"
   ]
  },
  {
   "cell_type": "code",
   "execution_count": 12,
   "metadata": {},
   "outputs": [
    {
     "data": {
      "image/png": "[encoded data removed]",
      "text/plain": [
       "<Figure size 900x600 with 1 Axes>"
      ]
     },
     "metadata": {},
     "output_type": "display_data"
    }
   ],
   "source": [
    "fairness_cols = df.iloc[:, ['area_origin' in column for column in df.columns]].columns\n",
    "\n",
    "fig = plt.figure(figsize=(6, 4), dpi=150)\n",
    "for i, col in enumerate(fairness_cols):\n",
    "    \n",
    "    # Call each category within the sensitive attribute of interest\n",
    "    df_ = df.query(f\"{col} == 1\")\n",
    "\n",
    "    # FPR and TPR\n",
    "    fpr, tpr, threshold = roc_curve(\n",
    "        df_['labels'],\n",
    "        df_['pred_probs'],\n",
    "    )\n",
    "    \n",
    "    # Plot ROC curve\n",
    "    plt.plot(fpr, tpr, color=f\"C{i}\", label=col.split(\"_\")[-1])\n",
    "\n",
    "plt.legend()\n",
    "plt.xlabel('FPR')\n",
    "plt.ylabel('TPR')\n",
    "plt.show()"
   ]
  },
  {
   "cell_type": "code",
   "execution_count": null,
   "metadata": {},
   "outputs": [],
   "source": []
  },
  {
   "attachments": {},
   "cell_type": "markdown",
   "metadata": {},
   "source": [
    "### De-biased model"
   ]
  },
  {
   "cell_type": "markdown",
   "metadata": {},
   "source": []
  }
 ],
 "metadata": {
  "kernelspec": {
   "display_name": "fairness_ai",
   "language": "python",
   "name": "python3"
  },
  "language_info": {
   "codemirror_mode": {
    "name": "ipython",
    "version": 3
   },
   "file_extension": ".py",
   "mimetype": "text/x-python",
   "name": "python",
   "nbconvert_exporter": "python",
   "pygments_lexer": "ipython3",
   "version": "3.10.9"
  },
  "orig_nbformat": 4
 },
 "nbformat": 4,
 "nbformat_minor": 2
}
